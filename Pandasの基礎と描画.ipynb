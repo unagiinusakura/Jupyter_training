{
 "cells": [
  {
   "cell_type": "markdown",
   "metadata": {},
   "source": [
    "# 第1章　Anacondaを利用した環境構築"
   ]
  },
  {
   "cell_type": "markdown",
   "metadata": {},
   "source": [
    "## 仮想環境の構築\n",
    "- Anaconda promptを開く\n",
    "- conda create -n jupyter-env python=3.6  と入力\n",
    "- Proceedと聞いてくるのでEnterを入力"
   ]
  },
  {
   "cell_type": "markdown",
   "metadata": {},
   "source": [
    "## 作成した仮想環境を利用する\n",
    "- activate jupyter-env と入力"
   ]
  },
  {
   "cell_type": "markdown",
   "metadata": {},
   "source": [
    "## ライブラリをバージョン指定してインストール\n",
    "- conda install -y jupyter==1.0.0  \n",
    "- conda install -y pandas==0.19.2\n",
    "- conda install -y matplotlib==2.0.1\n",
    "\n",
    "- -yオプションは確認フローを省略できる\n",
    "\n",
    "- パッケージのアップデート：　conda update jupyter\n",
    "- パッケージの削除: conda remove jupyter"
   ]
  },
  {
   "cell_type": "markdown",
   "metadata": {},
   "source": [
    "## 作成したconda環境の一覧\n",
    "conda env list\n",
    "\n",
    "- アスタリスクが付いているの仮想環境が現在のアクティベート"
   ]
  },
  {
   "cell_type": "markdown",
   "metadata": {},
   "source": [
    "## conda環境を終了する\n",
    "deactivate jupyter-env"
   ]
  },
  {
   "cell_type": "markdown",
   "metadata": {},
   "source": [
    "## 作成した環境を削除する\n",
    "- conda remove -y -n jupyter-env --all"
   ]
  },
  {
   "cell_type": "markdown",
   "metadata": {},
   "source": [
    "## matplotlibを日本語化する"
   ]
  },
  {
   "cell_type": "code",
   "execution_count": 9,
   "metadata": {},
   "outputs": [
    {
     "data": {
      "text/plain": [
       "'C:\\\\Users\\\\mikam\\\\Anaconda3\\\\lib\\\\site-packages\\\\matplotlib\\\\mpl-data\\\\matplotlibrc'"
      ]
     },
     "execution_count": 9,
     "metadata": {},
     "output_type": "execute_result"
    }
   ],
   "source": [
    "# matplotlibの設定ファイル参照先を確認する(設定ファイルはmatplotlibrc)\n",
    "from matplotlib import matplotlib_fname\n",
    "matplotlib_fname()"
   ]
  },
  {
   "cell_type": "markdown",
   "metadata": {},
   "source": [
    "## matplotlibrcの読み込み優先順位\n",
    "- ① 現在のワーキングディレクトリにあるmatplotlibrc\n",
    "- ② MATPLOTLIBRC/matplotlibrc\n",
    "- ③ HOME/.config/matplotlib/matplotlibrc\n",
    "- ④ matplotlibパッケージがインストールされたディレクトリのmpl-data/matplotlibrc"
   ]
  },
  {
   "cell_type": "markdown",
   "metadata": {},
   "source": [
    "# 第2章　JupyterNotebookの操作"
   ]
  },
  {
   "cell_type": "markdown",
   "metadata": {},
   "source": [
    "- クラスや関数名などの末尾に?を付与して実行すると「Docstring」を参照出来る\n",
    "-　対象の末尾に入力カーソルを置いた状態でshift+ Tabを押すとツールチップが表示される"
   ]
  },
  {
   "cell_type": "markdown",
   "metadata": {},
   "source": [
    "## マジックコマンドの基本"
   ]
  },
  {
   "cell_type": "code",
   "execution_count": 10,
   "metadata": {},
   "outputs": [
    {
     "data": {
      "text/plain": [
       "'D:\\\\Python\\\\PythonユーザのためのJupyter入門'"
      ]
     },
     "execution_count": 10,
     "metadata": {},
     "output_type": "execute_result"
    }
   ],
   "source": [
    "#　現在のディレクトリをひょうじする\n",
    "%pwd"
   ]
  },
  {
   "cell_type": "code",
   "execution_count": 12,
   "metadata": {},
   "outputs": [
    {
     "name": "stdout",
     "output_type": "stream",
     "text": [
      "Wall time: 0 ns\n"
     ]
    },
    {
     "data": {
      "text/plain": [
       "49995000"
      ]
     },
     "execution_count": 12,
     "metadata": {},
     "output_type": "execute_result"
    }
   ],
   "source": [
    "# 実行時間を計測するコマンド　%time\n",
    "%time sum(range(10000))"
   ]
  },
  {
   "cell_type": "code",
   "execution_count": 13,
   "metadata": {},
   "outputs": [
    {
     "name": "stdout",
     "output_type": "stream",
     "text": [
      "160 µs ± 4.57 µs per loop (mean ± std. dev. of 7 runs, 10000 loops each)\n"
     ]
    }
   ],
   "source": [
    "# 実行時間を複数回行う　%timeit\n",
    "%timeit sum(range(10000))"
   ]
  },
  {
   "cell_type": "code",
   "execution_count": 19,
   "metadata": {},
   "outputs": [
    {
     "name": "stdout",
     "output_type": "stream",
     "text": [
      "# 1000回の繰り返しを3回やる場合\n",
      "%%timeit -n 1000 -r 3\n",
      "\n",
      "for i in range(1000):\n",
      "    i * 2\n",
      "# 1000回の繰り返しを3回やる場合\n",
      "%timeit -n 1000 -r 3\n",
      "\n",
      "for i in range(1000):\n",
      "    i * 2\n",
      "# 1000回の繰り返しを3回やる場合\n",
      "%timeit -n 1000 -r 3\n",
      "\n",
      "for i in range(1000):\n",
      "    i * 2\n"
     ]
    }
   ],
   "source": [
    "# コードセルの実行履歴を一覧で取得\n",
    "%history -l 3"
   ]
  },
  {
   "cell_type": "code",
   "execution_count": 20,
   "metadata": {},
   "outputs": [
    {
     "name": "stdout",
     "output_type": "stream",
     "text": [
      " ドライブ D のボリューム ラベルは DATA です\n",
      " ボリューム シリアル番号は 8E0D-4CBA です\n",
      "\n",
      " D:\\Python\\PythonユーザのためのJupyter入門 のディレクトリ\n",
      "\n",
      "2020/08/10  09:50    <DIR>          .\n",
      "2020/08/10  09:50    <DIR>          ..\n",
      "2020/08/10  08:48    <DIR>          .ipynb_checkpoints\n",
      "2020/08/10  08:47    <DIR>          anime\n",
      "2020/08/10  09:50             5,235 Untitled.ipynb\n",
      "               1 個のファイル               5,235 バイト\n",
      "               4 個のディレクトリ  579,392,835,584 バイトの空き領域\n"
     ]
    }
   ],
   "source": [
    "# カレントディレクトリのファイル一覧を取得\n",
    "%ls"
   ]
  },
  {
   "cell_type": "code",
   "execution_count": 21,
   "metadata": {},
   "outputs": [],
   "source": [
    "# matplotlib画像の設定\n",
    "\n",
    "# %matplotlib inlineでセル直下にグラフが描画\n",
    "# %matplotlib tkで別ウィンドウにインタラクティブなグラフが表示\n",
    "# %matplotlib notebookでセル直下にインタラクティブなグラフができる"
   ]
  },
  {
   "cell_type": "markdown",
   "metadata": {},
   "source": [
    "# 第3章　pandasでデータ処理"
   ]
  },
  {
   "cell_type": "markdown",
   "metadata": {},
   "source": [
    "## 3-3 Series"
   ]
  },
  {
   "cell_type": "code",
   "execution_count": 22,
   "metadata": {},
   "outputs": [
    {
     "data": {
      "text/plain": [
       "a    1\n",
       "b    2\n",
       "c    3\n",
       "dtype: int64"
      ]
     },
     "execution_count": 22,
     "metadata": {},
     "output_type": "execute_result"
    }
   ],
   "source": [
    "import pandas as pd\n",
    "\n",
    "ser = pd.Series([1,2,3], index=['a', 'b', 'c'])\n",
    "ser"
   ]
  },
  {
   "cell_type": "code",
   "execution_count": 23,
   "metadata": {},
   "outputs": [
    {
     "data": {
      "text/plain": [
       "0    1\n",
       "1    2\n",
       "2    3\n",
       "dtype: int64"
      ]
     },
     "execution_count": 23,
     "metadata": {},
     "output_type": "execute_result"
    }
   ],
   "source": [
    "# indexを省略\n",
    "pd.Series([1,2,3])"
   ]
  },
  {
   "cell_type": "code",
   "execution_count": 24,
   "metadata": {},
   "outputs": [
    {
     "data": {
      "text/plain": [
       "2"
      ]
     },
     "execution_count": 24,
     "metadata": {},
     "output_type": "execute_result"
    }
   ],
   "source": [
    "# ラベルを使用してデータ選択\n",
    "ser.loc['b']"
   ]
  },
  {
   "cell_type": "code",
   "execution_count": 25,
   "metadata": {},
   "outputs": [
    {
     "data": {
      "text/plain": [
       "2"
      ]
     },
     "execution_count": 25,
     "metadata": {},
     "output_type": "execute_result"
    }
   ],
   "source": [
    "# ラベルを使用しない方法\n",
    "ser['b']"
   ]
  },
  {
   "cell_type": "code",
   "execution_count": 26,
   "metadata": {},
   "outputs": [
    {
     "data": {
      "text/plain": [
       "b    2\n",
       "c    3\n",
       "dtype: int64"
      ]
     },
     "execution_count": 26,
     "metadata": {},
     "output_type": "execute_result"
    }
   ],
   "source": [
    "# ラベルの範囲指定\n",
    "ser.loc['b':'c']"
   ]
  },
  {
   "cell_type": "code",
   "execution_count": 27,
   "metadata": {},
   "outputs": [
    {
     "data": {
      "text/plain": [
       "a    1\n",
       "c    3\n",
       "dtype: int64"
      ]
     },
     "execution_count": 27,
     "metadata": {},
     "output_type": "execute_result"
    }
   ],
   "source": [
    "# 複数の要素指定\n",
    "ser.loc[['a', 'c']]"
   ]
  },
  {
   "cell_type": "code",
   "execution_count": 28,
   "metadata": {},
   "outputs": [
    {
     "data": {
      "text/plain": [
       "2"
      ]
     },
     "execution_count": 28,
     "metadata": {},
     "output_type": "execute_result"
    }
   ],
   "source": [
    "# 位置を指定\n",
    "ser.iloc[1]"
   ]
  },
  {
   "cell_type": "code",
   "execution_count": 29,
   "metadata": {},
   "outputs": [
    {
     "data": {
      "text/plain": [
       "b    2\n",
       "c    3\n",
       "dtype: int64"
      ]
     },
     "execution_count": 29,
     "metadata": {},
     "output_type": "execute_result"
    }
   ],
   "source": [
    "ser.iloc[1:3]"
   ]
  },
  {
   "cell_type": "code",
   "execution_count": 30,
   "metadata": {},
   "outputs": [
    {
     "data": {
      "text/plain": [
       "a    1\n",
       "c    3\n",
       "dtype: int64"
      ]
     },
     "execution_count": 30,
     "metadata": {},
     "output_type": "execute_result"
    }
   ],
   "source": [
    "# 真偽値を使ってデータ選択\n",
    "ser.loc[[True, False, True]]"
   ]
  },
  {
   "cell_type": "code",
   "execution_count": 31,
   "metadata": {},
   "outputs": [
    {
     "data": {
      "text/plain": [
       "a     True\n",
       "b    False\n",
       "c     True\n",
       "dtype: bool"
      ]
     },
     "execution_count": 31,
     "metadata": {},
     "output_type": "execute_result"
    }
   ],
   "source": [
    "# 比較演算子を使って真偽値を返す\n",
    "ser !=2"
   ]
  },
  {
   "cell_type": "code",
   "execution_count": 32,
   "metadata": {},
   "outputs": [
    {
     "data": {
      "text/plain": [
       "a    1\n",
       "c    3\n",
       "dtype: int64"
      ]
     },
     "execution_count": 32,
     "metadata": {},
     "output_type": "execute_result"
    }
   ],
   "source": [
    "ser[ser !=2]"
   ]
  },
  {
   "cell_type": "markdown",
   "metadata": {},
   "source": [
    "## 3-4 DataFrame"
   ]
  },
  {
   "cell_type": "code",
   "execution_count": 33,
   "metadata": {},
   "outputs": [
    {
     "data": {
      "text/html": [
       "<div>\n",
       "<style scoped>\n",
       "    .dataframe tbody tr th:only-of-type {\n",
       "        vertical-align: middle;\n",
       "    }\n",
       "\n",
       "    .dataframe tbody tr th {\n",
       "        vertical-align: top;\n",
       "    }\n",
       "\n",
       "    .dataframe thead th {\n",
       "        text-align: right;\n",
       "    }\n",
       "</style>\n",
       "<table border=\"1\" class=\"dataframe\">\n",
       "  <thead>\n",
       "    <tr style=\"text-align: right;\">\n",
       "      <th></th>\n",
       "      <th>c1</th>\n",
       "      <th>c2</th>\n",
       "      <th>c3</th>\n",
       "    </tr>\n",
       "  </thead>\n",
       "  <tbody>\n",
       "    <tr>\n",
       "      <td>r1</td>\n",
       "      <td>1</td>\n",
       "      <td>10</td>\n",
       "      <td>100</td>\n",
       "    </tr>\n",
       "    <tr>\n",
       "      <td>r2</td>\n",
       "      <td>2</td>\n",
       "      <td>20</td>\n",
       "      <td>200</td>\n",
       "    </tr>\n",
       "    <tr>\n",
       "      <td>r3</td>\n",
       "      <td>3</td>\n",
       "      <td>30</td>\n",
       "      <td>300</td>\n",
       "    </tr>\n",
       "  </tbody>\n",
       "</table>\n",
       "</div>"
      ],
      "text/plain": [
       "    c1  c2   c3\n",
       "r1   1  10  100\n",
       "r2   2  20  200\n",
       "r3   3  30  300"
      ]
     },
     "execution_count": 33,
     "metadata": {},
     "output_type": "execute_result"
    }
   ],
   "source": [
    "df = pd.DataFrame([[1,10,100],[2,20,200], [3,30,300]],\n",
    "                  index=['r1', 'r2', 'r3'],\n",
    "                  columns=['c1', 'c2', 'c3']\n",
    ")\n",
    "df"
   ]
  },
  {
   "cell_type": "code",
   "execution_count": 34,
   "metadata": {},
   "outputs": [
    {
     "data": {
      "text/plain": [
       "20"
      ]
     },
     "execution_count": 34,
     "metadata": {},
     "output_type": "execute_result"
    }
   ],
   "source": [
    "# ラベルを使ってデータを選択する\n",
    "df.loc['r2', 'c2']"
   ]
  },
  {
   "cell_type": "code",
   "execution_count": 35,
   "metadata": {},
   "outputs": [
    {
     "data": {
      "text/plain": [
       "c1      2\n",
       "c2     20\n",
       "c3    200\n",
       "Name: r2, dtype: int64"
      ]
     },
     "execution_count": 35,
     "metadata": {},
     "output_type": "execute_result"
    }
   ],
   "source": [
    "# 全ての列をしているする場合\n",
    "df.loc['r2',:]"
   ]
  },
  {
   "cell_type": "code",
   "execution_count": 36,
   "metadata": {},
   "outputs": [
    {
     "data": {
      "text/plain": [
       "r1    10\n",
       "r2    20\n",
       "r3    30\n",
       "Name: c2, dtype: int64"
      ]
     },
     "execution_count": 36,
     "metadata": {},
     "output_type": "execute_result"
    }
   ],
   "source": [
    "# 全ての行を指定する場合\n",
    "df.loc[:,'c2']"
   ]
  },
  {
   "cell_type": "code",
   "execution_count": 37,
   "metadata": {},
   "outputs": [
    {
     "data": {
      "text/html": [
       "<div>\n",
       "<style scoped>\n",
       "    .dataframe tbody tr th:only-of-type {\n",
       "        vertical-align: middle;\n",
       "    }\n",
       "\n",
       "    .dataframe tbody tr th {\n",
       "        vertical-align: top;\n",
       "    }\n",
       "\n",
       "    .dataframe thead th {\n",
       "        text-align: right;\n",
       "    }\n",
       "</style>\n",
       "<table border=\"1\" class=\"dataframe\">\n",
       "  <thead>\n",
       "    <tr style=\"text-align: right;\">\n",
       "      <th></th>\n",
       "      <th>c2</th>\n",
       "      <th>c3</th>\n",
       "    </tr>\n",
       "  </thead>\n",
       "  <tbody>\n",
       "    <tr>\n",
       "      <td>r1</td>\n",
       "      <td>10</td>\n",
       "      <td>100</td>\n",
       "    </tr>\n",
       "    <tr>\n",
       "      <td>r3</td>\n",
       "      <td>30</td>\n",
       "      <td>300</td>\n",
       "    </tr>\n",
       "  </tbody>\n",
       "</table>\n",
       "</div>"
      ],
      "text/plain": [
       "    c2   c3\n",
       "r1  10  100\n",
       "r3  30  300"
      ]
     },
     "execution_count": 37,
     "metadata": {},
     "output_type": "execute_result"
    }
   ],
   "source": [
    "# スライスやリストの渡し方\n",
    "df.loc[['r1', 'r3'], 'c2':'c3']"
   ]
  },
  {
   "cell_type": "code",
   "execution_count": 38,
   "metadata": {},
   "outputs": [
    {
     "data": {
      "text/html": [
       "<div>\n",
       "<style scoped>\n",
       "    .dataframe tbody tr th:only-of-type {\n",
       "        vertical-align: middle;\n",
       "    }\n",
       "\n",
       "    .dataframe tbody tr th {\n",
       "        vertical-align: top;\n",
       "    }\n",
       "\n",
       "    .dataframe thead th {\n",
       "        text-align: right;\n",
       "    }\n",
       "</style>\n",
       "<table border=\"1\" class=\"dataframe\">\n",
       "  <thead>\n",
       "    <tr style=\"text-align: right;\">\n",
       "      <th></th>\n",
       "      <th>c1</th>\n",
       "      <th>c3</th>\n",
       "    </tr>\n",
       "  </thead>\n",
       "  <tbody>\n",
       "    <tr>\n",
       "      <td>r2</td>\n",
       "      <td>2</td>\n",
       "      <td>200</td>\n",
       "    </tr>\n",
       "    <tr>\n",
       "      <td>r3</td>\n",
       "      <td>3</td>\n",
       "      <td>300</td>\n",
       "    </tr>\n",
       "  </tbody>\n",
       "</table>\n",
       "</div>"
      ],
      "text/plain": [
       "    c1   c3\n",
       "r2   2  200\n",
       "r3   3  300"
      ]
     },
     "execution_count": 38,
     "metadata": {},
     "output_type": "execute_result"
    }
   ],
   "source": [
    "# ilocを使ってデータを選択\n",
    "df.iloc[1:3, [0,2]]"
   ]
  },
  {
   "cell_type": "code",
   "execution_count": 39,
   "metadata": {},
   "outputs": [
    {
     "data": {
      "text/plain": [
       "r1    1\n",
       "r2    2\n",
       "r3    3\n",
       "Name: c1, dtype: int64"
      ]
     },
     "execution_count": 39,
     "metadata": {},
     "output_type": "execute_result"
    }
   ],
   "source": [
    "# 列名を指定してデータを選択\n",
    "df['c1']"
   ]
  },
  {
   "cell_type": "code",
   "execution_count": 40,
   "metadata": {},
   "outputs": [
    {
     "data": {
      "text/html": [
       "<div>\n",
       "<style scoped>\n",
       "    .dataframe tbody tr th:only-of-type {\n",
       "        vertical-align: middle;\n",
       "    }\n",
       "\n",
       "    .dataframe tbody tr th {\n",
       "        vertical-align: top;\n",
       "    }\n",
       "\n",
       "    .dataframe thead th {\n",
       "        text-align: right;\n",
       "    }\n",
       "</style>\n",
       "<table border=\"1\" class=\"dataframe\">\n",
       "  <thead>\n",
       "    <tr style=\"text-align: right;\">\n",
       "      <th></th>\n",
       "      <th>c1</th>\n",
       "      <th>c2</th>\n",
       "      <th>c3</th>\n",
       "    </tr>\n",
       "  </thead>\n",
       "  <tbody>\n",
       "    <tr>\n",
       "      <td>r1</td>\n",
       "      <td>False</td>\n",
       "      <td>False</td>\n",
       "      <td>True</td>\n",
       "    </tr>\n",
       "    <tr>\n",
       "      <td>r2</td>\n",
       "      <td>False</td>\n",
       "      <td>True</td>\n",
       "      <td>True</td>\n",
       "    </tr>\n",
       "    <tr>\n",
       "      <td>r3</td>\n",
       "      <td>False</td>\n",
       "      <td>True</td>\n",
       "      <td>True</td>\n",
       "    </tr>\n",
       "  </tbody>\n",
       "</table>\n",
       "</div>"
      ],
      "text/plain": [
       "       c1     c2    c3\n",
       "r1  False  False  True\n",
       "r2  False   True  True\n",
       "r3  False   True  True"
      ]
     },
     "execution_count": 40,
     "metadata": {},
     "output_type": "execute_result"
    }
   ],
   "source": [
    "#真偽値を使ってデータを選択する\n",
    "df > 10"
   ]
  },
  {
   "cell_type": "code",
   "execution_count": 41,
   "metadata": {},
   "outputs": [
    {
     "data": {
      "text/html": [
       "<div>\n",
       "<style scoped>\n",
       "    .dataframe tbody tr th:only-of-type {\n",
       "        vertical-align: middle;\n",
       "    }\n",
       "\n",
       "    .dataframe tbody tr th {\n",
       "        vertical-align: top;\n",
       "    }\n",
       "\n",
       "    .dataframe thead th {\n",
       "        text-align: right;\n",
       "    }\n",
       "</style>\n",
       "<table border=\"1\" class=\"dataframe\">\n",
       "  <thead>\n",
       "    <tr style=\"text-align: right;\">\n",
       "      <th></th>\n",
       "      <th>c1</th>\n",
       "      <th>c2</th>\n",
       "      <th>c3</th>\n",
       "    </tr>\n",
       "  </thead>\n",
       "  <tbody>\n",
       "    <tr>\n",
       "      <td>r2</td>\n",
       "      <td>2</td>\n",
       "      <td>20</td>\n",
       "      <td>200</td>\n",
       "    </tr>\n",
       "    <tr>\n",
       "      <td>r3</td>\n",
       "      <td>3</td>\n",
       "      <td>30</td>\n",
       "      <td>300</td>\n",
       "    </tr>\n",
       "  </tbody>\n",
       "</table>\n",
       "</div>"
      ],
      "text/plain": [
       "    c1  c2   c3\n",
       "r2   2  20  200\n",
       "r3   3  30  300"
      ]
     },
     "execution_count": 41,
     "metadata": {},
     "output_type": "execute_result"
    }
   ],
   "source": [
    "df.loc[df['c2'] > 10]"
   ]
  },
  {
   "cell_type": "code",
   "execution_count": 43,
   "metadata": {},
   "outputs": [
    {
     "data": {
      "text/html": [
       "<div>\n",
       "<style scoped>\n",
       "    .dataframe tbody tr th:only-of-type {\n",
       "        vertical-align: middle;\n",
       "    }\n",
       "\n",
       "    .dataframe tbody tr th {\n",
       "        vertical-align: top;\n",
       "    }\n",
       "\n",
       "    .dataframe thead th {\n",
       "        text-align: right;\n",
       "    }\n",
       "</style>\n",
       "<table border=\"1\" class=\"dataframe\">\n",
       "  <thead>\n",
       "    <tr style=\"text-align: right;\">\n",
       "      <th></th>\n",
       "      <th>c1</th>\n",
       "      <th>c2</th>\n",
       "      <th>c3</th>\n",
       "    </tr>\n",
       "  </thead>\n",
       "  <tbody>\n",
       "    <tr>\n",
       "      <td>r2</td>\n",
       "      <td>2</td>\n",
       "      <td>20</td>\n",
       "      <td>200</td>\n",
       "    </tr>\n",
       "  </tbody>\n",
       "</table>\n",
       "</div>"
      ],
      "text/plain": [
       "    c1  c2   c3\n",
       "r2   2  20  200"
      ]
     },
     "execution_count": 43,
     "metadata": {},
     "output_type": "execute_result"
    }
   ],
   "source": [
    "# 2つ以上の条件を組み合わせる\n",
    "# & : and条件\n",
    "# | : or条件\n",
    "\n",
    "# c1列が1より大きくかつ、c3列が300より小さいデータ\n",
    "df.loc[(df['c1'] > 1) & (df['c3'] < 300)]"
   ]
  },
  {
   "cell_type": "markdown",
   "metadata": {},
   "source": [
    "## 3-5 様々なデータの読み込み"
   ]
  },
  {
   "cell_type": "code",
   "execution_count": 44,
   "metadata": {},
   "outputs": [
    {
     "data": {
      "text/html": [
       "<div>\n",
       "<style scoped>\n",
       "    .dataframe tbody tr th:only-of-type {\n",
       "        vertical-align: middle;\n",
       "    }\n",
       "\n",
       "    .dataframe tbody tr th {\n",
       "        vertical-align: top;\n",
       "    }\n",
       "\n",
       "    .dataframe thead th {\n",
       "        text-align: right;\n",
       "    }\n",
       "</style>\n",
       "<table border=\"1\" class=\"dataframe\">\n",
       "  <thead>\n",
       "    <tr style=\"text-align: right;\">\n",
       "      <th></th>\n",
       "      <th>anime_id</th>\n",
       "      <th>name</th>\n",
       "      <th>genre</th>\n",
       "      <th>type</th>\n",
       "      <th>episodes</th>\n",
       "      <th>rating</th>\n",
       "      <th>members</th>\n",
       "    </tr>\n",
       "  </thead>\n",
       "  <tbody>\n",
       "    <tr>\n",
       "      <td>0</td>\n",
       "      <td>32281</td>\n",
       "      <td>Kimi no Na wa.</td>\n",
       "      <td>Drama, Romance, School, Supernatural</td>\n",
       "      <td>Movie</td>\n",
       "      <td>1</td>\n",
       "      <td>9.37</td>\n",
       "      <td>200630</td>\n",
       "    </tr>\n",
       "    <tr>\n",
       "      <td>1</td>\n",
       "      <td>5114</td>\n",
       "      <td>Fullmetal Alchemist: Brotherhood</td>\n",
       "      <td>Action, Adventure, Drama, Fantasy, Magic, Mili...</td>\n",
       "      <td>TV</td>\n",
       "      <td>64</td>\n",
       "      <td>9.26</td>\n",
       "      <td>793665</td>\n",
       "    </tr>\n",
       "    <tr>\n",
       "      <td>2</td>\n",
       "      <td>28977</td>\n",
       "      <td>Gintama°</td>\n",
       "      <td>Action, Comedy, Historical, Parody, Samurai, S...</td>\n",
       "      <td>TV</td>\n",
       "      <td>51</td>\n",
       "      <td>9.25</td>\n",
       "      <td>114262</td>\n",
       "    </tr>\n",
       "    <tr>\n",
       "      <td>3</td>\n",
       "      <td>9253</td>\n",
       "      <td>Steins;Gate</td>\n",
       "      <td>Sci-Fi, Thriller</td>\n",
       "      <td>TV</td>\n",
       "      <td>24</td>\n",
       "      <td>9.17</td>\n",
       "      <td>673572</td>\n",
       "    </tr>\n",
       "    <tr>\n",
       "      <td>4</td>\n",
       "      <td>9969</td>\n",
       "      <td>Gintama&amp;#039;</td>\n",
       "      <td>Action, Comedy, Historical, Parody, Samurai, S...</td>\n",
       "      <td>TV</td>\n",
       "      <td>51</td>\n",
       "      <td>9.16</td>\n",
       "      <td>151266</td>\n",
       "    </tr>\n",
       "  </tbody>\n",
       "</table>\n",
       "</div>"
      ],
      "text/plain": [
       "   anime_id                              name  \\\n",
       "0     32281                    Kimi no Na wa.   \n",
       "1      5114  Fullmetal Alchemist: Brotherhood   \n",
       "2     28977                          Gintama°   \n",
       "3      9253                       Steins;Gate   \n",
       "4      9969                     Gintama&#039;   \n",
       "\n",
       "                                               genre   type episodes  rating  \\\n",
       "0               Drama, Romance, School, Supernatural  Movie        1    9.37   \n",
       "1  Action, Adventure, Drama, Fantasy, Magic, Mili...     TV       64    9.26   \n",
       "2  Action, Comedy, Historical, Parody, Samurai, S...     TV       51    9.25   \n",
       "3                                   Sci-Fi, Thriller     TV       24    9.17   \n",
       "4  Action, Comedy, Historical, Parody, Samurai, S...     TV       51    9.16   \n",
       "\n",
       "   members  \n",
       "0   200630  \n",
       "1   793665  \n",
       "2   114262  \n",
       "3   673572  \n",
       "4   151266  "
      ]
     },
     "execution_count": 44,
     "metadata": {},
     "output_type": "execute_result"
    }
   ],
   "source": [
    "# csvファイルを読み込む\n",
    "\n",
    "anime_csv = 'anime/anime.csv'\n",
    "df = pd.read_csv(anime_csv)\n",
    "df.head()"
   ]
  },
  {
   "cell_type": "markdown",
   "metadata": {},
   "source": [
    "### 指定した列をインデックスにする"
   ]
  },
  {
   "cell_type": "code",
   "execution_count": 45,
   "metadata": {},
   "outputs": [
    {
     "data": {
      "text/html": [
       "<div>\n",
       "<style scoped>\n",
       "    .dataframe tbody tr th:only-of-type {\n",
       "        vertical-align: middle;\n",
       "    }\n",
       "\n",
       "    .dataframe tbody tr th {\n",
       "        vertical-align: top;\n",
       "    }\n",
       "\n",
       "    .dataframe thead th {\n",
       "        text-align: right;\n",
       "    }\n",
       "</style>\n",
       "<table border=\"1\" class=\"dataframe\">\n",
       "  <thead>\n",
       "    <tr style=\"text-align: right;\">\n",
       "      <th></th>\n",
       "      <th>name</th>\n",
       "      <th>genre</th>\n",
       "      <th>type</th>\n",
       "      <th>episodes</th>\n",
       "      <th>rating</th>\n",
       "      <th>members</th>\n",
       "    </tr>\n",
       "    <tr>\n",
       "      <th>anime_id</th>\n",
       "      <th></th>\n",
       "      <th></th>\n",
       "      <th></th>\n",
       "      <th></th>\n",
       "      <th></th>\n",
       "      <th></th>\n",
       "    </tr>\n",
       "  </thead>\n",
       "  <tbody>\n",
       "    <tr>\n",
       "      <td>32281</td>\n",
       "      <td>Kimi no Na wa.</td>\n",
       "      <td>Drama, Romance, School, Supernatural</td>\n",
       "      <td>Movie</td>\n",
       "      <td>1</td>\n",
       "      <td>9.37</td>\n",
       "      <td>200630</td>\n",
       "    </tr>\n",
       "    <tr>\n",
       "      <td>5114</td>\n",
       "      <td>Fullmetal Alchemist: Brotherhood</td>\n",
       "      <td>Action, Adventure, Drama, Fantasy, Magic, Mili...</td>\n",
       "      <td>TV</td>\n",
       "      <td>64</td>\n",
       "      <td>9.26</td>\n",
       "      <td>793665</td>\n",
       "    </tr>\n",
       "    <tr>\n",
       "      <td>28977</td>\n",
       "      <td>Gintama°</td>\n",
       "      <td>Action, Comedy, Historical, Parody, Samurai, S...</td>\n",
       "      <td>TV</td>\n",
       "      <td>51</td>\n",
       "      <td>9.25</td>\n",
       "      <td>114262</td>\n",
       "    </tr>\n",
       "    <tr>\n",
       "      <td>9253</td>\n",
       "      <td>Steins;Gate</td>\n",
       "      <td>Sci-Fi, Thriller</td>\n",
       "      <td>TV</td>\n",
       "      <td>24</td>\n",
       "      <td>9.17</td>\n",
       "      <td>673572</td>\n",
       "    </tr>\n",
       "    <tr>\n",
       "      <td>9969</td>\n",
       "      <td>Gintama&amp;#039;</td>\n",
       "      <td>Action, Comedy, Historical, Parody, Samurai, S...</td>\n",
       "      <td>TV</td>\n",
       "      <td>51</td>\n",
       "      <td>9.16</td>\n",
       "      <td>151266</td>\n",
       "    </tr>\n",
       "  </tbody>\n",
       "</table>\n",
       "</div>"
      ],
      "text/plain": [
       "                                      name  \\\n",
       "anime_id                                     \n",
       "32281                       Kimi no Na wa.   \n",
       "5114      Fullmetal Alchemist: Brotherhood   \n",
       "28977                             Gintama°   \n",
       "9253                           Steins;Gate   \n",
       "9969                         Gintama&#039;   \n",
       "\n",
       "                                                      genre   type episodes  \\\n",
       "anime_id                                                                      \n",
       "32281                  Drama, Romance, School, Supernatural  Movie        1   \n",
       "5114      Action, Adventure, Drama, Fantasy, Magic, Mili...     TV       64   \n",
       "28977     Action, Comedy, Historical, Parody, Samurai, S...     TV       51   \n",
       "9253                                       Sci-Fi, Thriller     TV       24   \n",
       "9969      Action, Comedy, Historical, Parody, Samurai, S...     TV       51   \n",
       "\n",
       "          rating  members  \n",
       "anime_id                   \n",
       "32281       9.37   200630  \n",
       "5114        9.26   793665  \n",
       "28977       9.25   114262  \n",
       "9253        9.17   673572  \n",
       "9969        9.16   151266  "
      ]
     },
     "execution_count": 45,
     "metadata": {},
     "output_type": "execute_result"
    }
   ],
   "source": [
    "# インデックスにする列を指定\n",
    "df = pd.read_csv(anime_csv, index_col=0)\n",
    "df.head()"
   ]
  },
  {
   "cell_type": "code",
   "execution_count": 47,
   "metadata": {},
   "outputs": [
    {
     "data": {
      "text/html": [
       "<div>\n",
       "<style scoped>\n",
       "    .dataframe tbody tr th:only-of-type {\n",
       "        vertical-align: middle;\n",
       "    }\n",
       "\n",
       "    .dataframe tbody tr th {\n",
       "        vertical-align: top;\n",
       "    }\n",
       "\n",
       "    .dataframe thead th {\n",
       "        text-align: right;\n",
       "    }\n",
       "</style>\n",
       "<table border=\"1\" class=\"dataframe\">\n",
       "  <thead>\n",
       "    <tr style=\"text-align: right;\">\n",
       "      <th></th>\n",
       "      <th>name</th>\n",
       "      <th>genre</th>\n",
       "      <th>type</th>\n",
       "      <th>episodes</th>\n",
       "      <th>rating</th>\n",
       "      <th>members</th>\n",
       "    </tr>\n",
       "    <tr>\n",
       "      <th>anime_id</th>\n",
       "      <th></th>\n",
       "      <th></th>\n",
       "      <th></th>\n",
       "      <th></th>\n",
       "      <th></th>\n",
       "      <th></th>\n",
       "    </tr>\n",
       "  </thead>\n",
       "  <tbody>\n",
       "    <tr>\n",
       "      <td>32281</td>\n",
       "      <td>Kimi no Na wa.</td>\n",
       "      <td>Drama, Romance, School, Supernatural</td>\n",
       "      <td>Movie</td>\n",
       "      <td>1</td>\n",
       "      <td>9.37</td>\n",
       "      <td>200630</td>\n",
       "    </tr>\n",
       "    <tr>\n",
       "      <td>5114</td>\n",
       "      <td>Fullmetal Alchemist: Brotherhood</td>\n",
       "      <td>Action, Adventure, Drama, Fantasy, Magic, Mili...</td>\n",
       "      <td>TV</td>\n",
       "      <td>64</td>\n",
       "      <td>9.26</td>\n",
       "      <td>793665</td>\n",
       "    </tr>\n",
       "    <tr>\n",
       "      <td>28977</td>\n",
       "      <td>Gintama°</td>\n",
       "      <td>Action, Comedy, Historical, Parody, Samurai, S...</td>\n",
       "      <td>TV</td>\n",
       "      <td>51</td>\n",
       "      <td>9.25</td>\n",
       "      <td>114262</td>\n",
       "    </tr>\n",
       "    <tr>\n",
       "      <td>9253</td>\n",
       "      <td>Steins;Gate</td>\n",
       "      <td>Sci-Fi, Thriller</td>\n",
       "      <td>TV</td>\n",
       "      <td>24</td>\n",
       "      <td>9.17</td>\n",
       "      <td>673572</td>\n",
       "    </tr>\n",
       "    <tr>\n",
       "      <td>9969</td>\n",
       "      <td>Gintama&amp;#039;</td>\n",
       "      <td>Action, Comedy, Historical, Parody, Samurai, S...</td>\n",
       "      <td>TV</td>\n",
       "      <td>51</td>\n",
       "      <td>9.16</td>\n",
       "      <td>151266</td>\n",
       "    </tr>\n",
       "  </tbody>\n",
       "</table>\n",
       "</div>"
      ],
      "text/plain": [
       "                                      name  \\\n",
       "anime_id                                     \n",
       "32281                       Kimi no Na wa.   \n",
       "5114      Fullmetal Alchemist: Brotherhood   \n",
       "28977                             Gintama°   \n",
       "9253                           Steins;Gate   \n",
       "9969                         Gintama&#039;   \n",
       "\n",
       "                                                      genre   type episodes  \\\n",
       "anime_id                                                                      \n",
       "32281                  Drama, Romance, School, Supernatural  Movie        1   \n",
       "5114      Action, Adventure, Drama, Fantasy, Magic, Mili...     TV       64   \n",
       "28977     Action, Comedy, Historical, Parody, Samurai, S...     TV       51   \n",
       "9253                                       Sci-Fi, Thriller     TV       24   \n",
       "9969      Action, Comedy, Historical, Parody, Samurai, S...     TV       51   \n",
       "\n",
       "          rating  members  \n",
       "anime_id                   \n",
       "32281       9.37   200630  \n",
       "5114        9.26   793665  \n",
       "28977       9.25   114262  \n",
       "9253        9.17   673572  \n",
       "9969        9.16   151266  "
      ]
     },
     "execution_count": 47,
     "metadata": {},
     "output_type": "execute_result"
    }
   ],
   "source": [
    "# インデックスにする列を列名で指定\n",
    "df = pd.read_csv(anime_csv, index_col='anime_id')\n",
    "df.head()"
   ]
  },
  {
   "cell_type": "markdown",
   "metadata": {},
   "source": [
    "### 指定した列を指定した型で読み込む"
   ]
  },
  {
   "cell_type": "code",
   "execution_count": 48,
   "metadata": {},
   "outputs": [
    {
     "data": {
      "text/html": [
       "<div>\n",
       "<style scoped>\n",
       "    .dataframe tbody tr th:only-of-type {\n",
       "        vertical-align: middle;\n",
       "    }\n",
       "\n",
       "    .dataframe tbody tr th {\n",
       "        vertical-align: top;\n",
       "    }\n",
       "\n",
       "    .dataframe thead th {\n",
       "        text-align: right;\n",
       "    }\n",
       "</style>\n",
       "<table border=\"1\" class=\"dataframe\">\n",
       "  <thead>\n",
       "    <tr style=\"text-align: right;\">\n",
       "      <th></th>\n",
       "      <th>anime_id</th>\n",
       "      <th>name</th>\n",
       "      <th>genre</th>\n",
       "      <th>type</th>\n",
       "      <th>episodes</th>\n",
       "      <th>rating</th>\n",
       "      <th>members</th>\n",
       "    </tr>\n",
       "  </thead>\n",
       "  <tbody>\n",
       "    <tr>\n",
       "      <td>0</td>\n",
       "      <td>32281</td>\n",
       "      <td>Kimi no Na wa.</td>\n",
       "      <td>Drama, Romance, School, Supernatural</td>\n",
       "      <td>Movie</td>\n",
       "      <td>1</td>\n",
       "      <td>9.37</td>\n",
       "      <td>200630.0</td>\n",
       "    </tr>\n",
       "    <tr>\n",
       "      <td>1</td>\n",
       "      <td>5114</td>\n",
       "      <td>Fullmetal Alchemist: Brotherhood</td>\n",
       "      <td>Action, Adventure, Drama, Fantasy, Magic, Mili...</td>\n",
       "      <td>TV</td>\n",
       "      <td>64</td>\n",
       "      <td>9.26</td>\n",
       "      <td>793665.0</td>\n",
       "    </tr>\n",
       "    <tr>\n",
       "      <td>2</td>\n",
       "      <td>28977</td>\n",
       "      <td>Gintama°</td>\n",
       "      <td>Action, Comedy, Historical, Parody, Samurai, S...</td>\n",
       "      <td>TV</td>\n",
       "      <td>51</td>\n",
       "      <td>9.25</td>\n",
       "      <td>114262.0</td>\n",
       "    </tr>\n",
       "    <tr>\n",
       "      <td>3</td>\n",
       "      <td>9253</td>\n",
       "      <td>Steins;Gate</td>\n",
       "      <td>Sci-Fi, Thriller</td>\n",
       "      <td>TV</td>\n",
       "      <td>24</td>\n",
       "      <td>9.17</td>\n",
       "      <td>673572.0</td>\n",
       "    </tr>\n",
       "    <tr>\n",
       "      <td>4</td>\n",
       "      <td>9969</td>\n",
       "      <td>Gintama&amp;#039;</td>\n",
       "      <td>Action, Comedy, Historical, Parody, Samurai, S...</td>\n",
       "      <td>TV</td>\n",
       "      <td>51</td>\n",
       "      <td>9.16</td>\n",
       "      <td>151266.0</td>\n",
       "    </tr>\n",
       "  </tbody>\n",
       "</table>\n",
       "</div>"
      ],
      "text/plain": [
       "   anime_id                              name  \\\n",
       "0     32281                    Kimi no Na wa.   \n",
       "1      5114  Fullmetal Alchemist: Brotherhood   \n",
       "2     28977                          Gintama°   \n",
       "3      9253                       Steins;Gate   \n",
       "4      9969                     Gintama&#039;   \n",
       "\n",
       "                                               genre   type episodes  rating  \\\n",
       "0               Drama, Romance, School, Supernatural  Movie        1    9.37   \n",
       "1  Action, Adventure, Drama, Fantasy, Magic, Mili...     TV       64    9.26   \n",
       "2  Action, Comedy, Historical, Parody, Samurai, S...     TV       51    9.25   \n",
       "3                                   Sci-Fi, Thriller     TV       24    9.17   \n",
       "4  Action, Comedy, Historical, Parody, Samurai, S...     TV       51    9.16   \n",
       "\n",
       "    members  \n",
       "0  200630.0  \n",
       "1  793665.0  \n",
       "2  114262.0  \n",
       "3  673572.0  \n",
       "4  151266.0  "
      ]
     },
     "execution_count": 48,
     "metadata": {},
     "output_type": "execute_result"
    }
   ],
   "source": [
    "#キーワード引数dtypeに列名と型を指定すると指定した型で読み込み出来る\n",
    "df = pd.read_csv(anime_csv, dtype={'members': float})\n",
    "df.head()"
   ]
  },
  {
   "cell_type": "markdown",
   "metadata": {},
   "source": [
    "### datatime型の列が含まれている場合"
   ]
  },
  {
   "cell_type": "code",
   "execution_count": 51,
   "metadata": {},
   "outputs": [
    {
     "data": {
      "text/plain": [
       "Date              datetime64[ns]\n",
       "TOEI ANIMATION           float64\n",
       "IG Port                  float64\n",
       "dtype: object"
      ]
     },
     "execution_count": 51,
     "metadata": {},
     "output_type": "execute_result"
    }
   ],
   "source": [
    "# キーワード引数parse_datesに列名をリストで指定すると読み込み時に型変換する\n",
    "\n",
    "anime_stock_price_csv = 'anime/anime_stock_price.csv'\n",
    "df = pd.read_csv(anime_stock_price_csv, parse_dates=['Date'])\n",
    "df.dtypes"
   ]
  },
  {
   "cell_type": "markdown",
   "metadata": {},
   "source": [
    "### 区切り文字を変更する"
   ]
  },
  {
   "cell_type": "code",
   "execution_count": 53,
   "metadata": {},
   "outputs": [
    {
     "data": {
      "text/html": [
       "<div>\n",
       "<style scoped>\n",
       "    .dataframe tbody tr th:only-of-type {\n",
       "        vertical-align: middle;\n",
       "    }\n",
       "\n",
       "    .dataframe tbody tr th {\n",
       "        vertical-align: top;\n",
       "    }\n",
       "\n",
       "    .dataframe thead th {\n",
       "        text-align: right;\n",
       "    }\n",
       "</style>\n",
       "<table border=\"1\" class=\"dataframe\">\n",
       "  <thead>\n",
       "    <tr style=\"text-align: right;\">\n",
       "      <th></th>\n",
       "      <th>anime_id</th>\n",
       "      <th>name</th>\n",
       "      <th>genre</th>\n",
       "      <th>type</th>\n",
       "      <th>episodes</th>\n",
       "      <th>rating</th>\n",
       "      <th>members</th>\n",
       "    </tr>\n",
       "  </thead>\n",
       "  <tbody>\n",
       "    <tr>\n",
       "      <td>0</td>\n",
       "      <td>32281</td>\n",
       "      <td>Kimi no Na wa.</td>\n",
       "      <td>Drama, Romance, School, Supernatural</td>\n",
       "      <td>Movie</td>\n",
       "      <td>1</td>\n",
       "      <td>9.37</td>\n",
       "      <td>200630</td>\n",
       "    </tr>\n",
       "    <tr>\n",
       "      <td>1</td>\n",
       "      <td>5114</td>\n",
       "      <td>Fullmetal Alchemist: Brotherhood</td>\n",
       "      <td>Action, Adventure, Drama, Fantasy, Magic, Mili...</td>\n",
       "      <td>TV</td>\n",
       "      <td>64</td>\n",
       "      <td>9.26</td>\n",
       "      <td>793665</td>\n",
       "    </tr>\n",
       "    <tr>\n",
       "      <td>2</td>\n",
       "      <td>28977</td>\n",
       "      <td>Gintama°</td>\n",
       "      <td>Action, Comedy, Historical, Parody, Samurai, S...</td>\n",
       "      <td>TV</td>\n",
       "      <td>51</td>\n",
       "      <td>9.25</td>\n",
       "      <td>114262</td>\n",
       "    </tr>\n",
       "    <tr>\n",
       "      <td>3</td>\n",
       "      <td>9253</td>\n",
       "      <td>Steins;Gate</td>\n",
       "      <td>Sci-Fi, Thriller</td>\n",
       "      <td>TV</td>\n",
       "      <td>24</td>\n",
       "      <td>9.17</td>\n",
       "      <td>673572</td>\n",
       "    </tr>\n",
       "    <tr>\n",
       "      <td>4</td>\n",
       "      <td>9969</td>\n",
       "      <td>Gintama&amp;#039;</td>\n",
       "      <td>Action, Comedy, Historical, Parody, Samurai, S...</td>\n",
       "      <td>TV</td>\n",
       "      <td>51</td>\n",
       "      <td>9.16</td>\n",
       "      <td>151266</td>\n",
       "    </tr>\n",
       "    <tr>\n",
       "      <td>...</td>\n",
       "      <td>...</td>\n",
       "      <td>...</td>\n",
       "      <td>...</td>\n",
       "      <td>...</td>\n",
       "      <td>...</td>\n",
       "      <td>...</td>\n",
       "      <td>...</td>\n",
       "    </tr>\n",
       "    <tr>\n",
       "      <td>10481</td>\n",
       "      <td>34471</td>\n",
       "      <td>Youkai Watch Movie 4</td>\n",
       "      <td>Comedy, Kids, Supernatural</td>\n",
       "      <td>Movie</td>\n",
       "      <td>1</td>\n",
       "      <td>NaN</td>\n",
       "      <td>169</td>\n",
       "    </tr>\n",
       "    <tr>\n",
       "      <td>10482</td>\n",
       "      <td>34284</td>\n",
       "      <td>Yuuki Yuuna wa Yuusha de Aru: Washio Sumi no Shou</td>\n",
       "      <td>Drama, Fantasy, Magic, Slice of Life</td>\n",
       "      <td>TV</td>\n",
       "      <td>6</td>\n",
       "      <td>NaN</td>\n",
       "      <td>2593</td>\n",
       "    </tr>\n",
       "    <tr>\n",
       "      <td>10483</td>\n",
       "      <td>34445</td>\n",
       "      <td>Yuuki Yuuna wa Yuusha de Aru: Yuusha no Shou</td>\n",
       "      <td>Drama, Fantasy, Magic, Slice of Life</td>\n",
       "      <td>TV</td>\n",
       "      <td>6</td>\n",
       "      <td>NaN</td>\n",
       "      <td>4439</td>\n",
       "    </tr>\n",
       "    <tr>\n",
       "      <td>10484</td>\n",
       "      <td>33035</td>\n",
       "      <td>Yuyushiki Special</td>\n",
       "      <td>NaN</td>\n",
       "      <td>Special</td>\n",
       "      <td>1</td>\n",
       "      <td>NaN</td>\n",
       "      <td>2294</td>\n",
       "    </tr>\n",
       "    <tr>\n",
       "      <td>10485</td>\n",
       "      <td>33390</td>\n",
       "      <td>Zunda Horizon</td>\n",
       "      <td>NaN</td>\n",
       "      <td>Movie</td>\n",
       "      <td>1</td>\n",
       "      <td>NaN</td>\n",
       "      <td>160</td>\n",
       "    </tr>\n",
       "  </tbody>\n",
       "</table>\n",
       "<p>10486 rows × 7 columns</p>\n",
       "</div>"
      ],
      "text/plain": [
       "       anime_id                                               name  \\\n",
       "0         32281                                     Kimi no Na wa.   \n",
       "1          5114                   Fullmetal Alchemist: Brotherhood   \n",
       "2         28977                                           Gintama°   \n",
       "3          9253                                        Steins;Gate   \n",
       "4          9969                                      Gintama&#039;   \n",
       "...         ...                                                ...   \n",
       "10481     34471                               Youkai Watch Movie 4   \n",
       "10482     34284  Yuuki Yuuna wa Yuusha de Aru: Washio Sumi no Shou   \n",
       "10483     34445       Yuuki Yuuna wa Yuusha de Aru: Yuusha no Shou   \n",
       "10484     33035                                  Yuyushiki Special   \n",
       "10485     33390                                      Zunda Horizon   \n",
       "\n",
       "                                                   genre     type episodes  \\\n",
       "0                   Drama, Romance, School, Supernatural    Movie        1   \n",
       "1      Action, Adventure, Drama, Fantasy, Magic, Mili...       TV       64   \n",
       "2      Action, Comedy, Historical, Parody, Samurai, S...       TV       51   \n",
       "3                                       Sci-Fi, Thriller       TV       24   \n",
       "4      Action, Comedy, Historical, Parody, Samurai, S...       TV       51   \n",
       "...                                                  ...      ...      ...   \n",
       "10481                         Comedy, Kids, Supernatural    Movie        1   \n",
       "10482               Drama, Fantasy, Magic, Slice of Life       TV        6   \n",
       "10483               Drama, Fantasy, Magic, Slice of Life       TV        6   \n",
       "10484                                                NaN  Special        1   \n",
       "10485                                                NaN    Movie        1   \n",
       "\n",
       "       rating  members  \n",
       "0        9.37   200630  \n",
       "1        9.26   793665  \n",
       "2        9.25   114262  \n",
       "3        9.17   673572  \n",
       "4        9.16   151266  \n",
       "...       ...      ...  \n",
       "10481     NaN      169  \n",
       "10482     NaN     2593  \n",
       "10483     NaN     4439  \n",
       "10484     NaN     2294  \n",
       "10485     NaN      160  \n",
       "\n",
       "[10486 rows x 7 columns]"
      ]
     },
     "execution_count": 53,
     "metadata": {},
     "output_type": "execute_result"
    }
   ],
   "source": [
    "#　キーワード引数sepに文字列を指定する\n",
    "df = pd.read_csv('anime/anime.tsv', sep='\\t')\n",
    "df"
   ]
  },
  {
   "cell_type": "markdown",
   "metadata": {},
   "source": [
    "## Excelファイルを読み込む"
   ]
  },
  {
   "cell_type": "code",
   "execution_count": 55,
   "metadata": {},
   "outputs": [
    {
     "data": {
      "text/html": [
       "<div>\n",
       "<style scoped>\n",
       "    .dataframe tbody tr th:only-of-type {\n",
       "        vertical-align: middle;\n",
       "    }\n",
       "\n",
       "    .dataframe tbody tr th {\n",
       "        vertical-align: top;\n",
       "    }\n",
       "\n",
       "    .dataframe thead th {\n",
       "        text-align: right;\n",
       "    }\n",
       "</style>\n",
       "<table border=\"1\" class=\"dataframe\">\n",
       "  <thead>\n",
       "    <tr style=\"text-align: right;\">\n",
       "      <th></th>\n",
       "      <th>anime_id</th>\n",
       "      <th>name</th>\n",
       "      <th>genre</th>\n",
       "      <th>type</th>\n",
       "      <th>episodes</th>\n",
       "      <th>rating</th>\n",
       "      <th>members</th>\n",
       "    </tr>\n",
       "  </thead>\n",
       "  <tbody>\n",
       "    <tr>\n",
       "      <td>0</td>\n",
       "      <td>32281</td>\n",
       "      <td>Kimi no Na wa.</td>\n",
       "      <td>Drama, Romance, School, Supernatural</td>\n",
       "      <td>Movie</td>\n",
       "      <td>1</td>\n",
       "      <td>9.37</td>\n",
       "      <td>200630</td>\n",
       "    </tr>\n",
       "    <tr>\n",
       "      <td>1</td>\n",
       "      <td>15335</td>\n",
       "      <td>Gintama Movie: Kanketsu-hen - Yorozuya yo Eien...</td>\n",
       "      <td>Action, Comedy, Historical, Parody, Samurai, S...</td>\n",
       "      <td>Movie</td>\n",
       "      <td>1</td>\n",
       "      <td>9.10</td>\n",
       "      <td>72534</td>\n",
       "    </tr>\n",
       "    <tr>\n",
       "      <td>2</td>\n",
       "      <td>28851</td>\n",
       "      <td>Koe no Katachi</td>\n",
       "      <td>Drama, School, Shounen</td>\n",
       "      <td>Movie</td>\n",
       "      <td>1</td>\n",
       "      <td>9.05</td>\n",
       "      <td>102733</td>\n",
       "    </tr>\n",
       "    <tr>\n",
       "      <td>3</td>\n",
       "      <td>199</td>\n",
       "      <td>Sen to Chihiro no Kamikakushi</td>\n",
       "      <td>Adventure, Drama, Supernatural</td>\n",
       "      <td>Movie</td>\n",
       "      <td>1</td>\n",
       "      <td>8.93</td>\n",
       "      <td>466254</td>\n",
       "    </tr>\n",
       "    <tr>\n",
       "      <td>4</td>\n",
       "      <td>12355</td>\n",
       "      <td>Ookami Kodomo no Ame to Yuki</td>\n",
       "      <td>Fantasy, Slice of Life</td>\n",
       "      <td>Movie</td>\n",
       "      <td>1</td>\n",
       "      <td>8.84</td>\n",
       "      <td>226193</td>\n",
       "    </tr>\n",
       "  </tbody>\n",
       "</table>\n",
       "</div>"
      ],
      "text/plain": [
       "   anime_id                                               name  \\\n",
       "0     32281                                     Kimi no Na wa.   \n",
       "1     15335  Gintama Movie: Kanketsu-hen - Yorozuya yo Eien...   \n",
       "2     28851                                     Koe no Katachi   \n",
       "3       199                      Sen to Chihiro no Kamikakushi   \n",
       "4     12355                       Ookami Kodomo no Ame to Yuki   \n",
       "\n",
       "                                               genre   type episodes  rating  \\\n",
       "0               Drama, Romance, School, Supernatural  Movie        1    9.37   \n",
       "1  Action, Comedy, Historical, Parody, Samurai, S...  Movie        1    9.10   \n",
       "2                             Drama, School, Shounen  Movie        1    9.05   \n",
       "3                     Adventure, Drama, Supernatural  Movie        1    8.93   \n",
       "4                             Fantasy, Slice of Life  Movie        1    8.84   \n",
       "\n",
       "   members  \n",
       "0   200630  \n",
       "1    72534  \n",
       "2   102733  \n",
       "3   466254  \n",
       "4   226193  "
      ]
     },
     "execution_count": 55,
     "metadata": {},
     "output_type": "execute_result"
    }
   ],
   "source": [
    "anime_xlsx = 'anime/anime.xlsx'\n",
    "\n",
    "df = pd.read_excel(anime_xlsx)\n",
    "df.head()"
   ]
  },
  {
   "cell_type": "markdown",
   "metadata": {},
   "source": [
    "## 読み込むシートを指定する"
   ]
  },
  {
   "cell_type": "code",
   "execution_count": 56,
   "metadata": {},
   "outputs": [],
   "source": [
    "df = pd.read_excel(anime_xlsx, sheet_name='Movie')"
   ]
  },
  {
   "cell_type": "markdown",
   "metadata": {},
   "source": [
    "## HTMLファイルを読む"
   ]
  },
  {
   "cell_type": "code",
   "execution_count": 66,
   "metadata": {},
   "outputs": [
    {
     "data": {
      "text/html": [
       "<div>\n",
       "<style scoped>\n",
       "    .dataframe tbody tr th:only-of-type {\n",
       "        vertical-align: middle;\n",
       "    }\n",
       "\n",
       "    .dataframe tbody tr th {\n",
       "        vertical-align: top;\n",
       "    }\n",
       "\n",
       "    .dataframe thead th {\n",
       "        text-align: right;\n",
       "    }\n",
       "</style>\n",
       "<table border=\"1\" class=\"dataframe\">\n",
       "  <thead>\n",
       "    <tr style=\"text-align: right;\">\n",
       "      <th></th>\n",
       "      <th>2</th>\n",
       "    </tr>\n",
       "    <tr>\n",
       "      <th>1</th>\n",
       "      <th></th>\n",
       "    </tr>\n",
       "  </thead>\n",
       "  <tbody>\n",
       "    <tr>\n",
       "      <td>__future__</td>\n",
       "      <td>Future statement definitions</td>\n",
       "    </tr>\n",
       "    <tr>\n",
       "      <td>__main__</td>\n",
       "      <td>The environment where the top-level script is ...</td>\n",
       "    </tr>\n",
       "    <tr>\n",
       "      <td>_dummy_thread</td>\n",
       "      <td>Drop-in replacement for the _thread module.</td>\n",
       "    </tr>\n",
       "    <tr>\n",
       "      <td>_thread</td>\n",
       "      <td>Low-level threading API.</td>\n",
       "    </tr>\n",
       "    <tr>\n",
       "      <td>abc</td>\n",
       "      <td>Abstract base classes according to :pep:`3119`.</td>\n",
       "    </tr>\n",
       "    <tr>\n",
       "      <td>aifc</td>\n",
       "      <td>Read and write audio files in AIFF or AIFC for...</td>\n",
       "    </tr>\n",
       "    <tr>\n",
       "      <td>argparse</td>\n",
       "      <td>Command-line option and argument parsing library.</td>\n",
       "    </tr>\n",
       "    <tr>\n",
       "      <td>array</td>\n",
       "      <td>Space efficient arrays of uniformly typed nume...</td>\n",
       "    </tr>\n",
       "    <tr>\n",
       "      <td>ast</td>\n",
       "      <td>Abstract Syntax Tree classes and manipulation.</td>\n",
       "    </tr>\n",
       "    <tr>\n",
       "      <td>asynchat</td>\n",
       "      <td>Support for asynchronous command/response prot...</td>\n",
       "    </tr>\n",
       "  </tbody>\n",
       "</table>\n",
       "</div>"
      ],
      "text/plain": [
       "                                                               2\n",
       "1                                                               \n",
       "__future__                          Future statement definitions\n",
       "__main__       The environment where the top-level script is ...\n",
       "_dummy_thread        Drop-in replacement for the _thread module.\n",
       "_thread                                 Low-level threading API.\n",
       "abc              Abstract base classes according to :pep:`3119`.\n",
       "aifc           Read and write audio files in AIFF or AIFC for...\n",
       "argparse       Command-line option and argument parsing library.\n",
       "array          Space efficient arrays of uniformly typed nume...\n",
       "ast               Abstract Syntax Tree classes and manipulation.\n",
       "asynchat       Support for asynchronous command/response prot..."
      ]
     },
     "execution_count": 66,
     "metadata": {},
     "output_type": "execute_result"
    }
   ],
   "source": [
    "url = 'https://docs.python.org/3/py-modindex.html'\n",
    "\n",
    "tables = pd.read_html(url, index_col=1)\n",
    "\n",
    "#1番目のDataFrameから空の列と欠損値を除外\n",
    "tables[0].loc[:,1:].dropna().head(10)"
   ]
  },
  {
   "cell_type": "markdown",
   "metadata": {},
   "source": [
    "## 3-6 データ処理"
   ]
  },
  {
   "cell_type": "markdown",
   "metadata": {},
   "source": [
    "### 真偽値でデータを抽出する"
   ]
  },
  {
   "cell_type": "code",
   "execution_count": 67,
   "metadata": {},
   "outputs": [
    {
     "data": {
      "text/html": [
       "<div>\n",
       "<style scoped>\n",
       "    .dataframe tbody tr th:only-of-type {\n",
       "        vertical-align: middle;\n",
       "    }\n",
       "\n",
       "    .dataframe tbody tr th {\n",
       "        vertical-align: top;\n",
       "    }\n",
       "\n",
       "    .dataframe thead th {\n",
       "        text-align: right;\n",
       "    }\n",
       "</style>\n",
       "<table border=\"1\" class=\"dataframe\">\n",
       "  <thead>\n",
       "    <tr style=\"text-align: right;\">\n",
       "      <th></th>\n",
       "      <th>anime_id</th>\n",
       "      <th>name</th>\n",
       "      <th>genre</th>\n",
       "      <th>type</th>\n",
       "      <th>episodes</th>\n",
       "      <th>rating</th>\n",
       "      <th>members</th>\n",
       "    </tr>\n",
       "  </thead>\n",
       "  <tbody>\n",
       "    <tr>\n",
       "      <td>73</td>\n",
       "      <td>21</td>\n",
       "      <td>One Piece</td>\n",
       "      <td>Action, Adventure, Comedy, Drama, Fantasy, Sho...</td>\n",
       "      <td>TV</td>\n",
       "      <td>Unknown</td>\n",
       "      <td>8.58</td>\n",
       "      <td>504862</td>\n",
       "    </tr>\n",
       "    <tr>\n",
       "      <td>248</td>\n",
       "      <td>235</td>\n",
       "      <td>Detective Conan</td>\n",
       "      <td>Adventure, Comedy, Mystery, Police, Shounen</td>\n",
       "      <td>TV</td>\n",
       "      <td>Unknown</td>\n",
       "      <td>8.25</td>\n",
       "      <td>114702</td>\n",
       "    </tr>\n",
       "    <tr>\n",
       "      <td>607</td>\n",
       "      <td>1735</td>\n",
       "      <td>Naruto: Shippuuden</td>\n",
       "      <td>Action, Comedy, Martial Arts, Shounen, Super P...</td>\n",
       "      <td>TV</td>\n",
       "      <td>Unknown</td>\n",
       "      <td>7.94</td>\n",
       "      <td>533578</td>\n",
       "    </tr>\n",
       "    <tr>\n",
       "      <td>993</td>\n",
       "      <td>33157</td>\n",
       "      <td>Tanaka-kun wa Itsumo Kedaruge Specials</td>\n",
       "      <td>Comedy, School, Slice of Life</td>\n",
       "      <td>Special</td>\n",
       "      <td>Unknown</td>\n",
       "      <td>7.72</td>\n",
       "      <td>5400</td>\n",
       "    </tr>\n",
       "    <tr>\n",
       "      <td>1226</td>\n",
       "      <td>21639</td>\n",
       "      <td>Yu☆Gi☆Oh! Arc-V</td>\n",
       "      <td>Action, Fantasy, Game, Shounen</td>\n",
       "      <td>TV</td>\n",
       "      <td>Unknown</td>\n",
       "      <td>7.61</td>\n",
       "      <td>17571</td>\n",
       "    </tr>\n",
       "  </tbody>\n",
       "</table>\n",
       "</div>"
      ],
      "text/plain": [
       "      anime_id                                    name  \\\n",
       "73          21                               One Piece   \n",
       "248        235                         Detective Conan   \n",
       "607       1735                      Naruto: Shippuuden   \n",
       "993      33157  Tanaka-kun wa Itsumo Kedaruge Specials   \n",
       "1226     21639                         Yu☆Gi☆Oh! Arc-V   \n",
       "\n",
       "                                                  genre     type episodes  \\\n",
       "73    Action, Adventure, Comedy, Drama, Fantasy, Sho...       TV  Unknown   \n",
       "248         Adventure, Comedy, Mystery, Police, Shounen       TV  Unknown   \n",
       "607   Action, Comedy, Martial Arts, Shounen, Super P...       TV  Unknown   \n",
       "993                       Comedy, School, Slice of Life  Special  Unknown   \n",
       "1226                     Action, Fantasy, Game, Shounen       TV  Unknown   \n",
       "\n",
       "      rating  members  \n",
       "73      8.58   504862  \n",
       "248     8.25   114702  \n",
       "607     7.94   533578  \n",
       "993     7.72     5400  \n",
       "1226    7.61    17571  "
      ]
     },
     "execution_count": 67,
     "metadata": {},
     "output_type": "execute_result"
    }
   ],
   "source": [
    "anime_csv ='anime/anime.csv'\n",
    "df = pd.read_csv(anime_csv)\n",
    "\n",
    "df.loc[df['episodes'] == 'Unknown'].head()"
   ]
  },
  {
   "cell_type": "markdown",
   "metadata": {},
   "source": [
    "### whereメソッドでデータを抽出する"
   ]
  },
  {
   "cell_type": "code",
   "execution_count": 68,
   "metadata": {},
   "outputs": [
    {
     "data": {
      "text/html": [
       "<div>\n",
       "<style scoped>\n",
       "    .dataframe tbody tr th:only-of-type {\n",
       "        vertical-align: middle;\n",
       "    }\n",
       "\n",
       "    .dataframe tbody tr th {\n",
       "        vertical-align: top;\n",
       "    }\n",
       "\n",
       "    .dataframe thead th {\n",
       "        text-align: right;\n",
       "    }\n",
       "</style>\n",
       "<table border=\"1\" class=\"dataframe\">\n",
       "  <thead>\n",
       "    <tr style=\"text-align: right;\">\n",
       "      <th></th>\n",
       "      <th>anime_id</th>\n",
       "      <th>name</th>\n",
       "      <th>genre</th>\n",
       "      <th>type</th>\n",
       "      <th>episodes</th>\n",
       "      <th>rating</th>\n",
       "      <th>members</th>\n",
       "    </tr>\n",
       "  </thead>\n",
       "  <tbody>\n",
       "    <tr>\n",
       "      <td>0</td>\n",
       "      <td>NaN</td>\n",
       "      <td>NaN</td>\n",
       "      <td>NaN</td>\n",
       "      <td>NaN</td>\n",
       "      <td>NaN</td>\n",
       "      <td>NaN</td>\n",
       "      <td>NaN</td>\n",
       "    </tr>\n",
       "    <tr>\n",
       "      <td>1</td>\n",
       "      <td>NaN</td>\n",
       "      <td>NaN</td>\n",
       "      <td>NaN</td>\n",
       "      <td>NaN</td>\n",
       "      <td>NaN</td>\n",
       "      <td>NaN</td>\n",
       "      <td>NaN</td>\n",
       "    </tr>\n",
       "    <tr>\n",
       "      <td>2</td>\n",
       "      <td>NaN</td>\n",
       "      <td>NaN</td>\n",
       "      <td>NaN</td>\n",
       "      <td>NaN</td>\n",
       "      <td>NaN</td>\n",
       "      <td>NaN</td>\n",
       "      <td>NaN</td>\n",
       "    </tr>\n",
       "    <tr>\n",
       "      <td>3</td>\n",
       "      <td>9253.0</td>\n",
       "      <td>Steins;Gate</td>\n",
       "      <td>Sci-Fi, Thriller</td>\n",
       "      <td>TV</td>\n",
       "      <td>24</td>\n",
       "      <td>9.17</td>\n",
       "      <td>673572.0</td>\n",
       "    </tr>\n",
       "    <tr>\n",
       "      <td>4</td>\n",
       "      <td>9969.0</td>\n",
       "      <td>Gintama&amp;#039;</td>\n",
       "      <td>Action, Comedy, Historical, Parody, Samurai, S...</td>\n",
       "      <td>TV</td>\n",
       "      <td>51</td>\n",
       "      <td>9.16</td>\n",
       "      <td>151266.0</td>\n",
       "    </tr>\n",
       "  </tbody>\n",
       "</table>\n",
       "</div>"
      ],
      "text/plain": [
       "   anime_id           name                                              genre  \\\n",
       "0       NaN            NaN                                                NaN   \n",
       "1       NaN            NaN                                                NaN   \n",
       "2       NaN            NaN                                                NaN   \n",
       "3    9253.0    Steins;Gate                                   Sci-Fi, Thriller   \n",
       "4    9969.0  Gintama&#039;  Action, Comedy, Historical, Parody, Samurai, S...   \n",
       "\n",
       "  type episodes  rating   members  \n",
       "0  NaN      NaN     NaN       NaN  \n",
       "1  NaN      NaN     NaN       NaN  \n",
       "2  NaN      NaN     NaN       NaN  \n",
       "3   TV       24    9.17  673572.0  \n",
       "4   TV       51    9.16  151266.0  "
      ]
     },
     "execution_count": 68,
     "metadata": {},
     "output_type": "execute_result"
    }
   ],
   "source": [
    "# 抽出時に該当しないデータをNaNで埋めたDataFrameを返す\n",
    "\n",
    "df.where(df['rating'] < 9.2).head()"
   ]
  },
  {
   "cell_type": "markdown",
   "metadata": {},
   "source": [
    "### 値を変更する"
   ]
  },
  {
   "cell_type": "code",
   "execution_count": 70,
   "metadata": {},
   "outputs": [
    {
     "data": {
      "text/plain": [
       "nan"
      ]
     },
     "execution_count": 70,
     "metadata": {},
     "output_type": "execute_result"
    }
   ],
   "source": [
    "# ラベルを指定し値を代入することで値が書き換わる\n",
    "\n",
    "import numpy as np\n",
    "\n",
    "df.loc[74, 'episodes'] = np.nan\n",
    "df.loc[74, 'episodes']"
   ]
  },
  {
   "cell_type": "code",
   "execution_count": 78,
   "metadata": {},
   "outputs": [],
   "source": [
    "# 複数の値を変更する\n",
    "df.loc[df['episodes'] == 'Unknown'] = np.nan"
   ]
  },
  {
   "cell_type": "markdown",
   "metadata": {},
   "source": [
    "### 欠損値を除外する"
   ]
  },
  {
   "cell_type": "code",
   "execution_count": 79,
   "metadata": {},
   "outputs": [
    {
     "data": {
      "text/html": [
       "<div>\n",
       "<style scoped>\n",
       "    .dataframe tbody tr th:only-of-type {\n",
       "        vertical-align: middle;\n",
       "    }\n",
       "\n",
       "    .dataframe tbody tr th {\n",
       "        vertical-align: top;\n",
       "    }\n",
       "\n",
       "    .dataframe thead th {\n",
       "        text-align: right;\n",
       "    }\n",
       "</style>\n",
       "<table border=\"1\" class=\"dataframe\">\n",
       "  <thead>\n",
       "    <tr style=\"text-align: right;\">\n",
       "      <th></th>\n",
       "      <th>anime_id</th>\n",
       "      <th>name</th>\n",
       "      <th>genre</th>\n",
       "      <th>type</th>\n",
       "      <th>episodes</th>\n",
       "      <th>rating</th>\n",
       "      <th>members</th>\n",
       "    </tr>\n",
       "  </thead>\n",
       "  <tbody>\n",
       "    <tr>\n",
       "      <td>73</td>\n",
       "      <td>NaN</td>\n",
       "      <td>NaN</td>\n",
       "      <td>NaN</td>\n",
       "      <td>NaN</td>\n",
       "      <td>NaN</td>\n",
       "      <td>NaN</td>\n",
       "      <td>NaN</td>\n",
       "    </tr>\n",
       "    <tr>\n",
       "      <td>74</td>\n",
       "      <td>801.0</td>\n",
       "      <td>Ghost in the Shell: Stand Alone Complex 2nd GIG</td>\n",
       "      <td>Action, Mecha, Military, Mystery, Police, Sci-...</td>\n",
       "      <td>TV</td>\n",
       "      <td>NaN</td>\n",
       "      <td>8.57</td>\n",
       "      <td>113993.0</td>\n",
       "    </tr>\n",
       "    <tr>\n",
       "      <td>248</td>\n",
       "      <td>NaN</td>\n",
       "      <td>NaN</td>\n",
       "      <td>NaN</td>\n",
       "      <td>NaN</td>\n",
       "      <td>NaN</td>\n",
       "      <td>NaN</td>\n",
       "      <td>NaN</td>\n",
       "    </tr>\n",
       "    <tr>\n",
       "      <td>607</td>\n",
       "      <td>NaN</td>\n",
       "      <td>NaN</td>\n",
       "      <td>NaN</td>\n",
       "      <td>NaN</td>\n",
       "      <td>NaN</td>\n",
       "      <td>NaN</td>\n",
       "      <td>NaN</td>\n",
       "    </tr>\n",
       "    <tr>\n",
       "      <td>993</td>\n",
       "      <td>NaN</td>\n",
       "      <td>NaN</td>\n",
       "      <td>NaN</td>\n",
       "      <td>NaN</td>\n",
       "      <td>NaN</td>\n",
       "      <td>NaN</td>\n",
       "      <td>NaN</td>\n",
       "    </tr>\n",
       "  </tbody>\n",
       "</table>\n",
       "</div>"
      ],
      "text/plain": [
       "     anime_id                                             name  \\\n",
       "73        NaN                                              NaN   \n",
       "74      801.0  Ghost in the Shell: Stand Alone Complex 2nd GIG   \n",
       "248       NaN                                              NaN   \n",
       "607       NaN                                              NaN   \n",
       "993       NaN                                              NaN   \n",
       "\n",
       "                                                 genre type episodes  rating  \\\n",
       "73                                                 NaN  NaN      NaN     NaN   \n",
       "74   Action, Mecha, Military, Mystery, Police, Sci-...   TV      NaN    8.57   \n",
       "248                                                NaN  NaN      NaN     NaN   \n",
       "607                                                NaN  NaN      NaN     NaN   \n",
       "993                                                NaN  NaN      NaN     NaN   \n",
       "\n",
       "      members  \n",
       "73        NaN  \n",
       "74   113993.0  \n",
       "248       NaN  \n",
       "607       NaN  \n",
       "993       NaN  "
      ]
     },
     "execution_count": 79,
     "metadata": {},
     "output_type": "execute_result"
    }
   ],
   "source": [
    "# isnull()は欠損値である場合Trueを返す\n",
    "\n",
    "df.loc[df['episodes'].isnull()].head()"
   ]
  },
  {
   "cell_type": "markdown",
   "metadata": {},
   "source": [
    "### 欠損値が含まれているデータを除外"
   ]
  },
  {
   "cell_type": "code",
   "execution_count": 80,
   "metadata": {},
   "outputs": [
    {
     "data": {
      "text/html": [
       "<div>\n",
       "<style scoped>\n",
       "    .dataframe tbody tr th:only-of-type {\n",
       "        vertical-align: middle;\n",
       "    }\n",
       "\n",
       "    .dataframe tbody tr th {\n",
       "        vertical-align: top;\n",
       "    }\n",
       "\n",
       "    .dataframe thead th {\n",
       "        text-align: right;\n",
       "    }\n",
       "</style>\n",
       "<table border=\"1\" class=\"dataframe\">\n",
       "  <thead>\n",
       "    <tr style=\"text-align: right;\">\n",
       "      <th></th>\n",
       "      <th>anime_id</th>\n",
       "      <th>name</th>\n",
       "      <th>genre</th>\n",
       "      <th>type</th>\n",
       "      <th>episodes</th>\n",
       "      <th>rating</th>\n",
       "      <th>members</th>\n",
       "    </tr>\n",
       "  </thead>\n",
       "  <tbody>\n",
       "    <tr>\n",
       "      <td>70</td>\n",
       "      <td>578.0</td>\n",
       "      <td>Hotaru no Haka</td>\n",
       "      <td>Drama, Historical</td>\n",
       "      <td>Movie</td>\n",
       "      <td>1</td>\n",
       "      <td>8.58</td>\n",
       "      <td>174878.0</td>\n",
       "    </tr>\n",
       "    <tr>\n",
       "      <td>71</td>\n",
       "      <td>16894.0</td>\n",
       "      <td>Kuroko no Basket 2nd Season</td>\n",
       "      <td>Comedy, School, Shounen, Sports</td>\n",
       "      <td>TV</td>\n",
       "      <td>25</td>\n",
       "      <td>8.58</td>\n",
       "      <td>243325.0</td>\n",
       "    </tr>\n",
       "    <tr>\n",
       "      <td>72</td>\n",
       "      <td>5028.0</td>\n",
       "      <td>Major S5</td>\n",
       "      <td>Comedy, Drama, Romance, Sports</td>\n",
       "      <td>TV</td>\n",
       "      <td>25</td>\n",
       "      <td>8.58</td>\n",
       "      <td>28653.0</td>\n",
       "    </tr>\n",
       "    <tr>\n",
       "      <td>75</td>\n",
       "      <td>31933.0</td>\n",
       "      <td>JoJo no Kimyou na Bouken: Diamond wa Kudakenai</td>\n",
       "      <td>Action, Adventure, Comedy, Drama, Shounen, Sup...</td>\n",
       "      <td>TV</td>\n",
       "      <td>39</td>\n",
       "      <td>8.57</td>\n",
       "      <td>74074.0</td>\n",
       "    </tr>\n",
       "    <tr>\n",
       "      <td>76</td>\n",
       "      <td>5205.0</td>\n",
       "      <td>Kara no Kyoukai 7: Satsujin Kousatsu (Kou)</td>\n",
       "      <td>Action, Mystery, Romance, Supernatural, Thriller</td>\n",
       "      <td>Movie</td>\n",
       "      <td>1</td>\n",
       "      <td>8.57</td>\n",
       "      <td>95658.0</td>\n",
       "    </tr>\n",
       "  </tbody>\n",
       "</table>\n",
       "</div>"
      ],
      "text/plain": [
       "    anime_id                                            name  \\\n",
       "70     578.0                                  Hotaru no Haka   \n",
       "71   16894.0                     Kuroko no Basket 2nd Season   \n",
       "72    5028.0                                        Major S5   \n",
       "75   31933.0  JoJo no Kimyou na Bouken: Diamond wa Kudakenai   \n",
       "76    5205.0      Kara no Kyoukai 7: Satsujin Kousatsu (Kou)   \n",
       "\n",
       "                                                genre   type episodes  rating  \\\n",
       "70                                  Drama, Historical  Movie        1    8.58   \n",
       "71                    Comedy, School, Shounen, Sports     TV       25    8.58   \n",
       "72                     Comedy, Drama, Romance, Sports     TV       25    8.58   \n",
       "75  Action, Adventure, Comedy, Drama, Shounen, Sup...     TV       39    8.57   \n",
       "76   Action, Mystery, Romance, Supernatural, Thriller  Movie        1    8.57   \n",
       "\n",
       "     members  \n",
       "70  174878.0  \n",
       "71  243325.0  \n",
       "72   28653.0  \n",
       "75   74074.0  \n",
       "76   95658.0  "
      ]
     },
     "execution_count": 80,
     "metadata": {},
     "output_type": "execute_result"
    }
   ],
   "source": [
    "df.dropna().loc[70:].head()"
   ]
  },
  {
   "cell_type": "code",
   "execution_count": 82,
   "metadata": {},
   "outputs": [
    {
     "data": {
      "text/html": [
       "<div>\n",
       "<style scoped>\n",
       "    .dataframe tbody tr th:only-of-type {\n",
       "        vertical-align: middle;\n",
       "    }\n",
       "\n",
       "    .dataframe tbody tr th {\n",
       "        vertical-align: top;\n",
       "    }\n",
       "\n",
       "    .dataframe thead th {\n",
       "        text-align: right;\n",
       "    }\n",
       "</style>\n",
       "<table border=\"1\" class=\"dataframe\">\n",
       "  <thead>\n",
       "    <tr style=\"text-align: right;\">\n",
       "      <th></th>\n",
       "      <th>anime_id</th>\n",
       "      <th>name</th>\n",
       "      <th>genre</th>\n",
       "      <th>type</th>\n",
       "      <th>episodes</th>\n",
       "      <th>rating</th>\n",
       "      <th>members</th>\n",
       "    </tr>\n",
       "  </thead>\n",
       "  <tbody>\n",
       "    <tr>\n",
       "      <td>70</td>\n",
       "      <td>578.0</td>\n",
       "      <td>Hotaru no Haka</td>\n",
       "      <td>Drama, Historical</td>\n",
       "      <td>Movie</td>\n",
       "      <td>1</td>\n",
       "      <td>8.58</td>\n",
       "      <td>174878.0</td>\n",
       "    </tr>\n",
       "    <tr>\n",
       "      <td>71</td>\n",
       "      <td>16894.0</td>\n",
       "      <td>Kuroko no Basket 2nd Season</td>\n",
       "      <td>Comedy, School, Shounen, Sports</td>\n",
       "      <td>TV</td>\n",
       "      <td>25</td>\n",
       "      <td>8.58</td>\n",
       "      <td>243325.0</td>\n",
       "    </tr>\n",
       "    <tr>\n",
       "      <td>72</td>\n",
       "      <td>5028.0</td>\n",
       "      <td>Major S5</td>\n",
       "      <td>Comedy, Drama, Romance, Sports</td>\n",
       "      <td>TV</td>\n",
       "      <td>25</td>\n",
       "      <td>8.58</td>\n",
       "      <td>28653.0</td>\n",
       "    </tr>\n",
       "    <tr>\n",
       "      <td>75</td>\n",
       "      <td>31933.0</td>\n",
       "      <td>JoJo no Kimyou na Bouken: Diamond wa Kudakenai</td>\n",
       "      <td>Action, Adventure, Comedy, Drama, Shounen, Sup...</td>\n",
       "      <td>TV</td>\n",
       "      <td>39</td>\n",
       "      <td>8.57</td>\n",
       "      <td>74074.0</td>\n",
       "    </tr>\n",
       "    <tr>\n",
       "      <td>76</td>\n",
       "      <td>5205.0</td>\n",
       "      <td>Kara no Kyoukai 7: Satsujin Kousatsu (Kou)</td>\n",
       "      <td>Action, Mystery, Romance, Supernatural, Thriller</td>\n",
       "      <td>Movie</td>\n",
       "      <td>1</td>\n",
       "      <td>8.57</td>\n",
       "      <td>95658.0</td>\n",
       "    </tr>\n",
       "  </tbody>\n",
       "</table>\n",
       "</div>"
      ],
      "text/plain": [
       "    anime_id                                            name  \\\n",
       "70     578.0                                  Hotaru no Haka   \n",
       "71   16894.0                     Kuroko no Basket 2nd Season   \n",
       "72    5028.0                                        Major S5   \n",
       "75   31933.0  JoJo no Kimyou na Bouken: Diamond wa Kudakenai   \n",
       "76    5205.0      Kara no Kyoukai 7: Satsujin Kousatsu (Kou)   \n",
       "\n",
       "                                                genre   type episodes  rating  \\\n",
       "70                                  Drama, Historical  Movie        1    8.58   \n",
       "71                    Comedy, School, Shounen, Sports     TV       25    8.58   \n",
       "72                     Comedy, Drama, Romance, Sports     TV       25    8.58   \n",
       "75  Action, Adventure, Comedy, Drama, Shounen, Sup...     TV       39    8.57   \n",
       "76   Action, Mystery, Romance, Supernatural, Thriller  Movie        1    8.57   \n",
       "\n",
       "     members  \n",
       "70  174878.0  \n",
       "71  243325.0  \n",
       "72   28653.0  \n",
       "75   74074.0  \n",
       "76   95658.0  "
      ]
     },
     "execution_count": 82,
     "metadata": {},
     "output_type": "execute_result"
    }
   ],
   "source": [
    "# dropnaは非破壊的操作\n",
    "# dfの中身を書き換える場合はinplace=True\n",
    "\n",
    "df.dropna(inplace=True)\n",
    "df.loc[70:].head()"
   ]
  },
  {
   "cell_type": "markdown",
   "metadata": {},
   "source": [
    "### データの型"
   ]
  },
  {
   "cell_type": "code",
   "execution_count": 83,
   "metadata": {},
   "outputs": [
    {
     "data": {
      "text/plain": [
       "dtype('float64')"
      ]
     },
     "execution_count": 83,
     "metadata": {},
     "output_type": "execute_result"
    }
   ],
   "source": [
    "# Seriesのデータ型を確認する場合\n",
    "df['anime_id'].dtype"
   ]
  },
  {
   "cell_type": "code",
   "execution_count": 84,
   "metadata": {},
   "outputs": [
    {
     "data": {
      "text/plain": [
       "anime_id    float64\n",
       "name         object\n",
       "genre        object\n",
       "type         object\n",
       "episodes     object\n",
       "rating      float64\n",
       "members     float64\n",
       "dtype: object"
      ]
     },
     "execution_count": 84,
     "metadata": {},
     "output_type": "execute_result"
    }
   ],
   "source": [
    "# dfの型を確認する\n",
    "df.dtypes"
   ]
  },
  {
   "cell_type": "markdown",
   "metadata": {},
   "source": [
    "### データの型変換"
   ]
  },
  {
   "cell_type": "code",
   "execution_count": 85,
   "metadata": {},
   "outputs": [
    {
     "data": {
      "text/plain": [
       "0         1\n",
       "1        64\n",
       "2        51\n",
       "3        24\n",
       "4        51\n",
       "         ..\n",
       "10272     1\n",
       "10273    23\n",
       "10274     1\n",
       "10275     1\n",
       "10276    32\n",
       "Name: episodes, Length: 10075, dtype: int64"
      ]
     },
     "execution_count": 85,
     "metadata": {},
     "output_type": "execute_result"
    }
   ],
   "source": [
    "# 型変換する場合はastype()\n",
    "\n",
    "# pandasで表示する行数を設定\n",
    "pd.options.display.max_rows= 10\n",
    "df['episodes'].astype(np.int64)"
   ]
  },
  {
   "cell_type": "markdown",
   "metadata": {},
   "source": [
    "### 複数の型を変更する場合"
   ]
  },
  {
   "cell_type": "code",
   "execution_count": 87,
   "metadata": {},
   "outputs": [
    {
     "data": {
      "text/html": [
       "<div>\n",
       "<style scoped>\n",
       "    .dataframe tbody tr th:only-of-type {\n",
       "        vertical-align: middle;\n",
       "    }\n",
       "\n",
       "    .dataframe tbody tr th {\n",
       "        vertical-align: top;\n",
       "    }\n",
       "\n",
       "    .dataframe thead th {\n",
       "        text-align: right;\n",
       "    }\n",
       "</style>\n",
       "<table border=\"1\" class=\"dataframe\">\n",
       "  <thead>\n",
       "    <tr style=\"text-align: right;\">\n",
       "      <th></th>\n",
       "      <th>anime_id</th>\n",
       "      <th>name</th>\n",
       "      <th>genre</th>\n",
       "      <th>type</th>\n",
       "      <th>episodes</th>\n",
       "      <th>rating</th>\n",
       "      <th>members</th>\n",
       "    </tr>\n",
       "  </thead>\n",
       "  <tbody>\n",
       "    <tr>\n",
       "      <td>0</td>\n",
       "      <td>32281.0</td>\n",
       "      <td>Kimi no Na wa.</td>\n",
       "      <td>Drama, Romance, School, Supernatural</td>\n",
       "      <td>Movie</td>\n",
       "      <td>1</td>\n",
       "      <td>9.37</td>\n",
       "      <td>200630.0</td>\n",
       "    </tr>\n",
       "    <tr>\n",
       "      <td>1</td>\n",
       "      <td>5114.0</td>\n",
       "      <td>Fullmetal Alchemist: Brotherhood</td>\n",
       "      <td>Action, Adventure, Drama, Fantasy, Magic, Mili...</td>\n",
       "      <td>TV</td>\n",
       "      <td>64</td>\n",
       "      <td>9.26</td>\n",
       "      <td>793665.0</td>\n",
       "    </tr>\n",
       "    <tr>\n",
       "      <td>2</td>\n",
       "      <td>28977.0</td>\n",
       "      <td>Gintama°</td>\n",
       "      <td>Action, Comedy, Historical, Parody, Samurai, S...</td>\n",
       "      <td>TV</td>\n",
       "      <td>51</td>\n",
       "      <td>9.25</td>\n",
       "      <td>114262.0</td>\n",
       "    </tr>\n",
       "    <tr>\n",
       "      <td>3</td>\n",
       "      <td>9253.0</td>\n",
       "      <td>Steins;Gate</td>\n",
       "      <td>Sci-Fi, Thriller</td>\n",
       "      <td>TV</td>\n",
       "      <td>24</td>\n",
       "      <td>9.17</td>\n",
       "      <td>673572.0</td>\n",
       "    </tr>\n",
       "    <tr>\n",
       "      <td>4</td>\n",
       "      <td>9969.0</td>\n",
       "      <td>Gintama&amp;#039;</td>\n",
       "      <td>Action, Comedy, Historical, Parody, Samurai, S...</td>\n",
       "      <td>TV</td>\n",
       "      <td>51</td>\n",
       "      <td>9.16</td>\n",
       "      <td>151266.0</td>\n",
       "    </tr>\n",
       "    <tr>\n",
       "      <td>...</td>\n",
       "      <td>...</td>\n",
       "      <td>...</td>\n",
       "      <td>...</td>\n",
       "      <td>...</td>\n",
       "      <td>...</td>\n",
       "      <td>...</td>\n",
       "      <td>...</td>\n",
       "    </tr>\n",
       "    <tr>\n",
       "      <td>10272</td>\n",
       "      <td>11095.0</td>\n",
       "      <td>Zouressha ga Yatte Kita</td>\n",
       "      <td>Adventure</td>\n",
       "      <td>Movie</td>\n",
       "      <td>1</td>\n",
       "      <td>6.06</td>\n",
       "      <td>78.0</td>\n",
       "    </tr>\n",
       "    <tr>\n",
       "      <td>10273</td>\n",
       "      <td>7808.0</td>\n",
       "      <td>Zukkoke Knight: Don De La Mancha</td>\n",
       "      <td>Adventure, Comedy, Historical, Romance</td>\n",
       "      <td>TV</td>\n",
       "      <td>23</td>\n",
       "      <td>6.47</td>\n",
       "      <td>172.0</td>\n",
       "    </tr>\n",
       "    <tr>\n",
       "      <td>10274</td>\n",
       "      <td>28543.0</td>\n",
       "      <td>Zukkoke Sannin-gumi no Hi Asobi Boushi Daisakusen</td>\n",
       "      <td>Drama, Kids</td>\n",
       "      <td>OVA</td>\n",
       "      <td>1</td>\n",
       "      <td>5.83</td>\n",
       "      <td>50.0</td>\n",
       "    </tr>\n",
       "    <tr>\n",
       "      <td>10275</td>\n",
       "      <td>18967.0</td>\n",
       "      <td>Zukkoke Sannin-gumi: Zukkoke Jikuu Bouken</td>\n",
       "      <td>Comedy, Historical, Sci-Fi</td>\n",
       "      <td>OVA</td>\n",
       "      <td>1</td>\n",
       "      <td>6.13</td>\n",
       "      <td>76.0</td>\n",
       "    </tr>\n",
       "    <tr>\n",
       "      <td>10276</td>\n",
       "      <td>13455.0</td>\n",
       "      <td>Zumomo to Nupepe</td>\n",
       "      <td>Comedy</td>\n",
       "      <td>TV</td>\n",
       "      <td>32</td>\n",
       "      <td>7.00</td>\n",
       "      <td>120.0</td>\n",
       "    </tr>\n",
       "  </tbody>\n",
       "</table>\n",
       "<p>10075 rows × 7 columns</p>\n",
       "</div>"
      ],
      "text/plain": [
       "       anime_id                                               name  \\\n",
       "0       32281.0                                     Kimi no Na wa.   \n",
       "1        5114.0                   Fullmetal Alchemist: Brotherhood   \n",
       "2       28977.0                                           Gintama°   \n",
       "3        9253.0                                        Steins;Gate   \n",
       "4        9969.0                                      Gintama&#039;   \n",
       "...         ...                                                ...   \n",
       "10272   11095.0                            Zouressha ga Yatte Kita   \n",
       "10273    7808.0                   Zukkoke Knight: Don De La Mancha   \n",
       "10274   28543.0  Zukkoke Sannin-gumi no Hi Asobi Boushi Daisakusen   \n",
       "10275   18967.0          Zukkoke Sannin-gumi: Zukkoke Jikuu Bouken   \n",
       "10276   13455.0                                   Zumomo to Nupepe   \n",
       "\n",
       "                                                   genre   type  episodes  \\\n",
       "0                   Drama, Romance, School, Supernatural  Movie         1   \n",
       "1      Action, Adventure, Drama, Fantasy, Magic, Mili...     TV        64   \n",
       "2      Action, Comedy, Historical, Parody, Samurai, S...     TV        51   \n",
       "3                                       Sci-Fi, Thriller     TV        24   \n",
       "4      Action, Comedy, Historical, Parody, Samurai, S...     TV        51   \n",
       "...                                                  ...    ...       ...   \n",
       "10272                                          Adventure  Movie         1   \n",
       "10273             Adventure, Comedy, Historical, Romance     TV        23   \n",
       "10274                                        Drama, Kids    OVA         1   \n",
       "10275                         Comedy, Historical, Sci-Fi    OVA         1   \n",
       "10276                                             Comedy     TV        32   \n",
       "\n",
       "       rating   members  \n",
       "0        9.37  200630.0  \n",
       "1        9.26  793665.0  \n",
       "2        9.25  114262.0  \n",
       "3        9.17  673572.0  \n",
       "4        9.16  151266.0  \n",
       "...       ...       ...  \n",
       "10272    6.06      78.0  \n",
       "10273    6.47     172.0  \n",
       "10274    5.83      50.0  \n",
       "10275    6.13      76.0  \n",
       "10276    7.00     120.0  \n",
       "\n",
       "[10075 rows x 7 columns]"
      ]
     },
     "execution_count": 87,
     "metadata": {},
     "output_type": "execute_result"
    }
   ],
   "source": [
    "df.astype({'episodes': np.int64, 'rating' : np.float64})"
   ]
  },
  {
   "cell_type": "code",
   "execution_count": 89,
   "metadata": {},
   "outputs": [
    {
     "data": {
      "text/plain": [
       "anime_id    float64\n",
       "name         object\n",
       "genre        object\n",
       "type         object\n",
       "episodes     object\n",
       "rating      float64\n",
       "members     float64\n",
       "dtype: object"
      ]
     },
     "execution_count": 89,
     "metadata": {},
     "output_type": "execute_result"
    }
   ],
   "source": [
    "# astype()は非破壊的\n",
    "df.dtypes"
   ]
  },
  {
   "cell_type": "markdown",
   "metadata": {},
   "source": [
    "### DataFrameを書き換える場合"
   ]
  },
  {
   "cell_type": "code",
   "execution_count": 90,
   "metadata": {},
   "outputs": [
    {
     "data": {
      "text/plain": [
       "anime_id    float64\n",
       "name         object\n",
       "genre        object\n",
       "type         object\n",
       "episodes      int64\n",
       "rating      float64\n",
       "members     float64\n",
       "dtype: object"
      ]
     },
     "execution_count": 90,
     "metadata": {},
     "output_type": "execute_result"
    }
   ],
   "source": [
    "df['episodes'] = df['episodes'].astype(np.int64)\n",
    "df.dtypes"
   ]
  },
  {
   "cell_type": "markdown",
   "metadata": {},
   "source": [
    "## ソートする"
   ]
  },
  {
   "cell_type": "code",
   "execution_count": 91,
   "metadata": {},
   "outputs": [
    {
     "data": {
      "text/html": [
       "<div>\n",
       "<style scoped>\n",
       "    .dataframe tbody tr th:only-of-type {\n",
       "        vertical-align: middle;\n",
       "    }\n",
       "\n",
       "    .dataframe tbody tr th {\n",
       "        vertical-align: top;\n",
       "    }\n",
       "\n",
       "    .dataframe thead th {\n",
       "        text-align: right;\n",
       "    }\n",
       "</style>\n",
       "<table border=\"1\" class=\"dataframe\">\n",
       "  <thead>\n",
       "    <tr style=\"text-align: right;\">\n",
       "      <th></th>\n",
       "      <th>anime_id</th>\n",
       "      <th>name</th>\n",
       "      <th>genre</th>\n",
       "      <th>type</th>\n",
       "      <th>episodes</th>\n",
       "      <th>rating</th>\n",
       "      <th>members</th>\n",
       "    </tr>\n",
       "  </thead>\n",
       "  <tbody>\n",
       "    <tr>\n",
       "      <td>9846</td>\n",
       "      <td>33662.0</td>\n",
       "      <td>Taka no Tsume 8: Yoshida-kun no X-Files</td>\n",
       "      <td>Comedy, Parody</td>\n",
       "      <td>Movie</td>\n",
       "      <td>1</td>\n",
       "      <td>10.00</td>\n",
       "      <td>13.0</td>\n",
       "    </tr>\n",
       "    <tr>\n",
       "      <td>8985</td>\n",
       "      <td>23005.0</td>\n",
       "      <td>Mogura no Motoro</td>\n",
       "      <td>Slice of Life</td>\n",
       "      <td>Movie</td>\n",
       "      <td>1</td>\n",
       "      <td>9.50</td>\n",
       "      <td>62.0</td>\n",
       "    </tr>\n",
       "    <tr>\n",
       "      <td>0</td>\n",
       "      <td>32281.0</td>\n",
       "      <td>Kimi no Na wa.</td>\n",
       "      <td>Drama, Romance, School, Supernatural</td>\n",
       "      <td>Movie</td>\n",
       "      <td>1</td>\n",
       "      <td>9.37</td>\n",
       "      <td>200630.0</td>\n",
       "    </tr>\n",
       "    <tr>\n",
       "      <td>8474</td>\n",
       "      <td>33607.0</td>\n",
       "      <td>Kahei no Umi</td>\n",
       "      <td>Historical</td>\n",
       "      <td>Movie</td>\n",
       "      <td>1</td>\n",
       "      <td>9.33</td>\n",
       "      <td>44.0</td>\n",
       "    </tr>\n",
       "    <tr>\n",
       "      <td>1</td>\n",
       "      <td>5114.0</td>\n",
       "      <td>Fullmetal Alchemist: Brotherhood</td>\n",
       "      <td>Action, Adventure, Drama, Fantasy, Magic, Mili...</td>\n",
       "      <td>TV</td>\n",
       "      <td>64</td>\n",
       "      <td>9.26</td>\n",
       "      <td>793665.0</td>\n",
       "    </tr>\n",
       "  </tbody>\n",
       "</table>\n",
       "</div>"
      ],
      "text/plain": [
       "      anime_id                                     name  \\\n",
       "9846   33662.0  Taka no Tsume 8: Yoshida-kun no X-Files   \n",
       "8985   23005.0                         Mogura no Motoro   \n",
       "0      32281.0                           Kimi no Na wa.   \n",
       "8474   33607.0                             Kahei no Umi   \n",
       "1       5114.0         Fullmetal Alchemist: Brotherhood   \n",
       "\n",
       "                                                  genre   type  episodes  \\\n",
       "9846                                     Comedy, Parody  Movie         1   \n",
       "8985                                      Slice of Life  Movie         1   \n",
       "0                  Drama, Romance, School, Supernatural  Movie         1   \n",
       "8474                                         Historical  Movie         1   \n",
       "1     Action, Adventure, Drama, Fantasy, Magic, Mili...     TV        64   \n",
       "\n",
       "      rating   members  \n",
       "9846   10.00      13.0  \n",
       "8985    9.50      62.0  \n",
       "0       9.37  200630.0  \n",
       "8474    9.33      44.0  \n",
       "1       9.26  793665.0  "
      ]
     },
     "execution_count": 91,
     "metadata": {},
     "output_type": "execute_result"
    }
   ],
   "source": [
    "# データを並び替えるにはsort_values()\n",
    "# sort_valuesは非破壊的、データ書き換える場合はinplace=True\n",
    "\n",
    "df.sort_values(by='rating', ascending=False).head()"
   ]
  },
  {
   "cell_type": "markdown",
   "metadata": {},
   "source": [
    "### 関数を適用する\n",
    "- map 　   : Series(値ごと)に適用　　　　　　　 →戻り値はSeries\n",
    "- apply    : DataFrame(列または行ごと)に適用　 →戻り値はSeries\n",
    "- applymap : DataFrame(値ごと)に適用　　　　→戻り値はDataFrame"
   ]
  },
  {
   "cell_type": "markdown",
   "metadata": {},
   "source": [
    "#### mapメソッドの適用"
   ]
  },
  {
   "cell_type": "code",
   "execution_count": 92,
   "metadata": {},
   "outputs": [
    {
     "name": "stdout",
     "output_type": "stream",
     "text": [
      "0                      Kimi no Na wa.\n",
      "1    Fullmetal Alchemist: Brotherhood\n",
      "2                            Gintama°\n",
      "3                         Steins;Gate\n",
      "4                       Gintama&#039;\n",
      "Name: name, dtype: object\n",
      "############\n",
      "0                      Kimi no Na wa.\n",
      "1    Fullmetal Alchemist: Brotherhood\n",
      "2                            Gintama°\n",
      "3                         Steins;Gate\n",
      "4                            Gintama'\n",
      "Name: name, dtype: object\n"
     ]
    }
   ],
   "source": [
    "import html\n",
    "\n",
    "print(df['name'].head())\n",
    "print('############')\n",
    "print(df['name'].map(html.unescape).head())"
   ]
  },
  {
   "cell_type": "markdown",
   "metadata": {},
   "source": [
    "#### applyメソッドによる関数の適用"
   ]
  },
  {
   "cell_type": "code",
   "execution_count": 93,
   "metadata": {},
   "outputs": [
    {
     "data": {
      "text/plain": [
       "anime_id    10075\n",
       "name        10075\n",
       "genre       10075\n",
       "type        10075\n",
       "episodes    10075\n",
       "rating      10075\n",
       "members     10075\n",
       "dtype: int64"
      ]
     },
     "execution_count": 93,
     "metadata": {},
     "output_type": "execute_result"
    }
   ],
   "source": [
    "df.apply(len)"
   ]
  },
  {
   "cell_type": "markdown",
   "metadata": {},
   "source": [
    "#### applyメソッドによる行に対しての関数の適用"
   ]
  },
  {
   "cell_type": "code",
   "execution_count": 94,
   "metadata": {},
   "outputs": [
    {
     "data": {
      "text/plain": [
       "0    7\n",
       "1    7\n",
       "2    7\n",
       "3    7\n",
       "4    7\n",
       "dtype: int64"
      ]
     },
     "execution_count": 94,
     "metadata": {},
     "output_type": "execute_result"
    }
   ],
   "source": [
    "df.apply(len, axis=1).head()"
   ]
  },
  {
   "cell_type": "code",
   "execution_count": 95,
   "metadata": {},
   "outputs": [
    {
     "data": {
      "text/plain": [
       "anime_id    <class 'pandas.core.series.Series'>\n",
       "name        <class 'pandas.core.series.Series'>\n",
       "genre       <class 'pandas.core.series.Series'>\n",
       "type        <class 'pandas.core.series.Series'>\n",
       "episodes    <class 'pandas.core.series.Series'>\n",
       "rating      <class 'pandas.core.series.Series'>\n",
       "members     <class 'pandas.core.series.Series'>\n",
       "dtype: object"
      ]
     },
     "execution_count": 95,
     "metadata": {},
     "output_type": "execute_result"
    }
   ],
   "source": [
    "# applyメソッドに渡された関数に渡される引数はSeries型\n",
    "df.apply(type)"
   ]
  },
  {
   "cell_type": "code",
   "execution_count": 97,
   "metadata": {},
   "outputs": [
    {
     "data": {
      "text/plain": [
       "0    50\n",
       "1    91\n",
       "2    68\n",
       "3    27\n",
       "4    73\n",
       "dtype: int64"
      ]
     },
     "execution_count": 97,
     "metadata": {},
     "output_type": "execute_result"
    }
   ],
   "source": [
    "# 適用する関数の中でラベルを指定できる\n",
    "\n",
    "df.apply(lambda x : len(x['name']) + len(x['genre']), axis=1).head()"
   ]
  },
  {
   "cell_type": "markdown",
   "metadata": {},
   "source": [
    "#### applymapメソッドによる関数適用"
   ]
  },
  {
   "cell_type": "code",
   "execution_count": 98,
   "metadata": {},
   "outputs": [
    {
     "data": {
      "text/html": [
       "<div>\n",
       "<style scoped>\n",
       "    .dataframe tbody tr th:only-of-type {\n",
       "        vertical-align: middle;\n",
       "    }\n",
       "\n",
       "    .dataframe tbody tr th {\n",
       "        vertical-align: top;\n",
       "    }\n",
       "\n",
       "    .dataframe thead th {\n",
       "        text-align: right;\n",
       "    }\n",
       "</style>\n",
       "<table border=\"1\" class=\"dataframe\">\n",
       "  <thead>\n",
       "    <tr style=\"text-align: right;\">\n",
       "      <th></th>\n",
       "      <th>name</th>\n",
       "      <th>genre</th>\n",
       "    </tr>\n",
       "  </thead>\n",
       "  <tbody>\n",
       "    <tr>\n",
       "      <td>0</td>\n",
       "      <td>14</td>\n",
       "      <td>36</td>\n",
       "    </tr>\n",
       "    <tr>\n",
       "      <td>1</td>\n",
       "      <td>32</td>\n",
       "      <td>59</td>\n",
       "    </tr>\n",
       "    <tr>\n",
       "      <td>2</td>\n",
       "      <td>8</td>\n",
       "      <td>60</td>\n",
       "    </tr>\n",
       "    <tr>\n",
       "      <td>3</td>\n",
       "      <td>11</td>\n",
       "      <td>16</td>\n",
       "    </tr>\n",
       "    <tr>\n",
       "      <td>4</td>\n",
       "      <td>13</td>\n",
       "      <td>60</td>\n",
       "    </tr>\n",
       "  </tbody>\n",
       "</table>\n",
       "</div>"
      ],
      "text/plain": [
       "   name  genre\n",
       "0    14     36\n",
       "1    32     59\n",
       "2     8     60\n",
       "3    11     16\n",
       "4    13     60"
      ]
     },
     "execution_count": 98,
     "metadata": {},
     "output_type": "execute_result"
    }
   ],
   "source": [
    "df[['name', 'genre']].applymap(len).head()"
   ]
  },
  {
   "cell_type": "markdown",
   "metadata": {},
   "source": [
    "## 3-7 統計量の算出"
   ]
  },
  {
   "cell_type": "code",
   "execution_count": 99,
   "metadata": {},
   "outputs": [],
   "source": [
    "anime_master_csv ='anime/anime_master.csv'\n",
    "df= pd.read_csv(anime_master_csv)"
   ]
  },
  {
   "cell_type": "code",
   "execution_count": 101,
   "metadata": {},
   "outputs": [
    {
     "data": {
      "text/plain": [
       "anime_id    14055.982035\n",
       "episodes       13.939156\n",
       "rating          6.507956\n",
       "members     18924.950769\n",
       "dtype: float64"
      ]
     },
     "execution_count": 101,
     "metadata": {},
     "output_type": "execute_result"
    }
   ],
   "source": [
    "# 列ごとの平均値の算出\n",
    "df.mean()"
   ]
  },
  {
   "cell_type": "code",
   "execution_count": 103,
   "metadata": {},
   "outputs": [
    {
     "data": {
      "text/plain": [
       "18924.95076923077"
      ]
     },
     "execution_count": 103,
     "metadata": {},
     "output_type": "execute_result"
    }
   ],
   "source": [
    "# Seriesにおいても同様\n",
    "df['members'].mean()"
   ]
  },
  {
   "cell_type": "markdown",
   "metadata": {},
   "source": [
    "#### 基本統計量を算出する"
   ]
  },
  {
   "cell_type": "code",
   "execution_count": 104,
   "metadata": {},
   "outputs": [
    {
     "data": {
      "text/html": [
       "<div>\n",
       "<style scoped>\n",
       "    .dataframe tbody tr th:only-of-type {\n",
       "        vertical-align: middle;\n",
       "    }\n",
       "\n",
       "    .dataframe tbody tr th {\n",
       "        vertical-align: top;\n",
       "    }\n",
       "\n",
       "    .dataframe thead th {\n",
       "        text-align: right;\n",
       "    }\n",
       "</style>\n",
       "<table border=\"1\" class=\"dataframe\">\n",
       "  <thead>\n",
       "    <tr style=\"text-align: right;\">\n",
       "      <th></th>\n",
       "      <th>anime_id</th>\n",
       "      <th>episodes</th>\n",
       "      <th>rating</th>\n",
       "      <th>members</th>\n",
       "    </tr>\n",
       "  </thead>\n",
       "  <tbody>\n",
       "    <tr>\n",
       "      <td>count</td>\n",
       "      <td>10075.0</td>\n",
       "      <td>10075.0</td>\n",
       "      <td>10075.0</td>\n",
       "      <td>10075.0</td>\n",
       "    </tr>\n",
       "    <tr>\n",
       "      <td>mean</td>\n",
       "      <td>14056.0</td>\n",
       "      <td>13.9</td>\n",
       "      <td>6.5</td>\n",
       "      <td>18925.0</td>\n",
       "    </tr>\n",
       "    <tr>\n",
       "      <td>std</td>\n",
       "      <td>11294.9</td>\n",
       "      <td>50.8</td>\n",
       "      <td>1.1</td>\n",
       "      <td>57117.5</td>\n",
       "    </tr>\n",
       "    <tr>\n",
       "      <td>min</td>\n",
       "      <td>1.0</td>\n",
       "      <td>1.0</td>\n",
       "      <td>1.7</td>\n",
       "      <td>12.0</td>\n",
       "    </tr>\n",
       "    <tr>\n",
       "      <td>25%</td>\n",
       "      <td>3431.0</td>\n",
       "      <td>1.0</td>\n",
       "      <td>5.9</td>\n",
       "      <td>177.0</td>\n",
       "    </tr>\n",
       "    <tr>\n",
       "      <td>50%</td>\n",
       "      <td>10526.0</td>\n",
       "      <td>1.0</td>\n",
       "      <td>6.6</td>\n",
       "      <td>1227.0</td>\n",
       "    </tr>\n",
       "    <tr>\n",
       "      <td>75%</td>\n",
       "      <td>24438.0</td>\n",
       "      <td>13.0</td>\n",
       "      <td>7.3</td>\n",
       "      <td>10254.0</td>\n",
       "    </tr>\n",
       "    <tr>\n",
       "      <td>max</td>\n",
       "      <td>34519.0</td>\n",
       "      <td>1818.0</td>\n",
       "      <td>10.0</td>\n",
       "      <td>1013917.0</td>\n",
       "    </tr>\n",
       "  </tbody>\n",
       "</table>\n",
       "</div>"
      ],
      "text/plain": [
       "       anime_id  episodes   rating    members\n",
       "count   10075.0   10075.0  10075.0    10075.0\n",
       "mean    14056.0      13.9      6.5    18925.0\n",
       "std     11294.9      50.8      1.1    57117.5\n",
       "min         1.0       1.0      1.7       12.0\n",
       "25%      3431.0       1.0      5.9      177.0\n",
       "50%     10526.0       1.0      6.6     1227.0\n",
       "75%     24438.0      13.0      7.3    10254.0\n",
       "max     34519.0    1818.0     10.0  1013917.0"
      ]
     },
     "execution_count": 104,
     "metadata": {},
     "output_type": "execute_result"
    }
   ],
   "source": [
    "df.describe().round(1)"
   ]
  },
  {
   "cell_type": "code",
   "execution_count": 105,
   "metadata": {},
   "outputs": [
    {
     "data": {
      "text/html": [
       "<div>\n",
       "<style scoped>\n",
       "    .dataframe tbody tr th:only-of-type {\n",
       "        vertical-align: middle;\n",
       "    }\n",
       "\n",
       "    .dataframe tbody tr th {\n",
       "        vertical-align: top;\n",
       "    }\n",
       "\n",
       "    .dataframe thead th {\n",
       "        text-align: right;\n",
       "    }\n",
       "</style>\n",
       "<table border=\"1\" class=\"dataframe\">\n",
       "  <thead>\n",
       "    <tr style=\"text-align: right;\">\n",
       "      <th></th>\n",
       "      <th>anime_id</th>\n",
       "      <th>episodes</th>\n",
       "      <th>rating</th>\n",
       "      <th>members</th>\n",
       "    </tr>\n",
       "  </thead>\n",
       "  <tbody>\n",
       "    <tr>\n",
       "      <td>count</td>\n",
       "      <td>10075.0</td>\n",
       "      <td>10075.0</td>\n",
       "      <td>10075.0</td>\n",
       "      <td>10075.0</td>\n",
       "    </tr>\n",
       "    <tr>\n",
       "      <td>mean</td>\n",
       "      <td>14056.0</td>\n",
       "      <td>13.9</td>\n",
       "      <td>6.5</td>\n",
       "      <td>18925.0</td>\n",
       "    </tr>\n",
       "    <tr>\n",
       "      <td>std</td>\n",
       "      <td>11294.9</td>\n",
       "      <td>50.8</td>\n",
       "      <td>1.1</td>\n",
       "      <td>57117.5</td>\n",
       "    </tr>\n",
       "    <tr>\n",
       "      <td>min</td>\n",
       "      <td>1.0</td>\n",
       "      <td>1.0</td>\n",
       "      <td>1.7</td>\n",
       "      <td>12.0</td>\n",
       "    </tr>\n",
       "    <tr>\n",
       "      <td>10%</td>\n",
       "      <td>1259.4</td>\n",
       "      <td>1.0</td>\n",
       "      <td>5.1</td>\n",
       "      <td>74.0</td>\n",
       "    </tr>\n",
       "    <tr>\n",
       "      <td>50%</td>\n",
       "      <td>10526.0</td>\n",
       "      <td>1.0</td>\n",
       "      <td>6.6</td>\n",
       "      <td>1227.0</td>\n",
       "    </tr>\n",
       "    <tr>\n",
       "      <td>90%</td>\n",
       "      <td>31190.0</td>\n",
       "      <td>37.0</td>\n",
       "      <td>7.8</td>\n",
       "      <td>47587.6</td>\n",
       "    </tr>\n",
       "    <tr>\n",
       "      <td>max</td>\n",
       "      <td>34519.0</td>\n",
       "      <td>1818.0</td>\n",
       "      <td>10.0</td>\n",
       "      <td>1013917.0</td>\n",
       "    </tr>\n",
       "  </tbody>\n",
       "</table>\n",
       "</div>"
      ],
      "text/plain": [
       "       anime_id  episodes   rating    members\n",
       "count   10075.0   10075.0  10075.0    10075.0\n",
       "mean    14056.0      13.9      6.5    18925.0\n",
       "std     11294.9      50.8      1.1    57117.5\n",
       "min         1.0       1.0      1.7       12.0\n",
       "10%      1259.4       1.0      5.1       74.0\n",
       "50%     10526.0       1.0      6.6     1227.0\n",
       "90%     31190.0      37.0      7.8    47587.6\n",
       "max     34519.0    1818.0     10.0  1013917.0"
      ]
     },
     "execution_count": 105,
     "metadata": {},
     "output_type": "execute_result"
    }
   ],
   "source": [
    "# パーセントタイル値を変更する場合\n",
    "df.describe(percentiles=[0.1,0.9]).round(1)"
   ]
  },
  {
   "cell_type": "code",
   "execution_count": 106,
   "metadata": {},
   "outputs": [
    {
     "data": {
      "text/html": [
       "<div>\n",
       "<style scoped>\n",
       "    .dataframe tbody tr th:only-of-type {\n",
       "        vertical-align: middle;\n",
       "    }\n",
       "\n",
       "    .dataframe tbody tr th {\n",
       "        vertical-align: top;\n",
       "    }\n",
       "\n",
       "    .dataframe thead th {\n",
       "        text-align: right;\n",
       "    }\n",
       "</style>\n",
       "<table border=\"1\" class=\"dataframe\">\n",
       "  <thead>\n",
       "    <tr style=\"text-align: right;\">\n",
       "      <th></th>\n",
       "      <th>genre</th>\n",
       "      <th>type</th>\n",
       "    </tr>\n",
       "  </thead>\n",
       "  <tbody>\n",
       "    <tr>\n",
       "      <td>count</td>\n",
       "      <td>10075</td>\n",
       "      <td>10075</td>\n",
       "    </tr>\n",
       "    <tr>\n",
       "      <td>unique</td>\n",
       "      <td>2735</td>\n",
       "      <td>6</td>\n",
       "    </tr>\n",
       "    <tr>\n",
       "      <td>top</td>\n",
       "      <td>Comedy</td>\n",
       "      <td>TV</td>\n",
       "    </tr>\n",
       "    <tr>\n",
       "      <td>freq</td>\n",
       "      <td>500</td>\n",
       "      <td>3330</td>\n",
       "    </tr>\n",
       "  </tbody>\n",
       "</table>\n",
       "</div>"
      ],
      "text/plain": [
       "         genre   type\n",
       "count    10075  10075\n",
       "unique    2735      6\n",
       "top     Comedy     TV\n",
       "freq       500   3330"
      ]
     },
     "execution_count": 106,
     "metadata": {},
     "output_type": "execute_result"
    }
   ],
   "source": [
    "# 非数値の列に対してdescrbe()メソッドを使用した場合\n",
    "# count:欠損値を除いたデータ数\n",
    "# unique:ユニークなデータ数\n",
    "# top: データ数が最も多い値\n",
    "# freq: topのデータ数\n",
    "\n",
    "\n",
    "df[['genre', 'type']].describe()"
   ]
  },
  {
   "cell_type": "markdown",
   "metadata": {},
   "source": [
    "## 3-8　クロス集計"
   ]
  },
  {
   "cell_type": "markdown",
   "metadata": {},
   "source": [
    "#### groupbyメソッドで集約する"
   ]
  },
  {
   "cell_type": "code",
   "execution_count": 107,
   "metadata": {},
   "outputs": [
    {
     "data": {
      "text/plain": [
       "pandas.core.groupby.generic.DataFrameGroupBy"
      ]
     },
     "execution_count": 107,
     "metadata": {},
     "output_type": "execute_result"
    }
   ],
   "source": [
    "anime_master_csv ='anime/anime_master.csv'\n",
    "df= pd.read_csv(anime_master_csv)\n",
    "\n",
    "grouped = df.groupby('type')\n",
    "type(grouped)"
   ]
  },
  {
   "cell_type": "code",
   "execution_count": 108,
   "metadata": {},
   "outputs": [
    {
     "data": {
      "text/html": [
       "<div>\n",
       "<style scoped>\n",
       "    .dataframe tbody tr th:only-of-type {\n",
       "        vertical-align: middle;\n",
       "    }\n",
       "\n",
       "    .dataframe tbody tr th {\n",
       "        vertical-align: top;\n",
       "    }\n",
       "\n",
       "    .dataframe thead th {\n",
       "        text-align: right;\n",
       "    }\n",
       "</style>\n",
       "<table border=\"1\" class=\"dataframe\">\n",
       "  <thead>\n",
       "    <tr style=\"text-align: right;\">\n",
       "      <th></th>\n",
       "      <th>anime_id</th>\n",
       "      <th>episodes</th>\n",
       "      <th>rating</th>\n",
       "      <th>members</th>\n",
       "    </tr>\n",
       "    <tr>\n",
       "      <th>type</th>\n",
       "      <th></th>\n",
       "      <th></th>\n",
       "      <th></th>\n",
       "      <th></th>\n",
       "    </tr>\n",
       "  </thead>\n",
       "  <tbody>\n",
       "    <tr>\n",
       "      <td>Movie</td>\n",
       "      <td>14322.5</td>\n",
       "      <td>1.1</td>\n",
       "      <td>6.3</td>\n",
       "      <td>10654.0</td>\n",
       "    </tr>\n",
       "    <tr>\n",
       "      <td>Music</td>\n",
       "      <td>22495.1</td>\n",
       "      <td>1.1</td>\n",
       "      <td>5.6</td>\n",
       "      <td>1273.0</td>\n",
       "    </tr>\n",
       "    <tr>\n",
       "      <td>ONA</td>\n",
       "      <td>22738.0</td>\n",
       "      <td>6.8</td>\n",
       "      <td>5.6</td>\n",
       "      <td>4401.8</td>\n",
       "    </tr>\n",
       "    <tr>\n",
       "      <td>OVA</td>\n",
       "      <td>12207.7</td>\n",
       "      <td>2.5</td>\n",
       "      <td>6.5</td>\n",
       "      <td>6849.5</td>\n",
       "    </tr>\n",
       "    <tr>\n",
       "      <td>Special</td>\n",
       "      <td>16802.3</td>\n",
       "      <td>2.5</td>\n",
       "      <td>6.5</td>\n",
       "      <td>7424.6</td>\n",
       "    </tr>\n",
       "    <tr>\n",
       "      <td>TV</td>\n",
       "      <td>10929.6</td>\n",
       "      <td>37.5</td>\n",
       "      <td>6.9</td>\n",
       "      <td>41832.3</td>\n",
       "    </tr>\n",
       "  </tbody>\n",
       "</table>\n",
       "</div>"
      ],
      "text/plain": [
       "         anime_id  episodes  rating  members\n",
       "type                                        \n",
       "Movie     14322.5       1.1     6.3  10654.0\n",
       "Music     22495.1       1.1     5.6   1273.0\n",
       "ONA       22738.0       6.8     5.6   4401.8\n",
       "OVA       12207.7       2.5     6.5   6849.5\n",
       "Special   16802.3       2.5     6.5   7424.6\n",
       "TV        10929.6      37.5     6.9  41832.3"
      ]
     },
     "execution_count": 108,
     "metadata": {},
     "output_type": "execute_result"
    }
   ],
   "source": [
    "# 集約されたデータの平均値\n",
    "grouped.mean().round(1)"
   ]
  },
  {
   "cell_type": "code",
   "execution_count": 111,
   "metadata": {},
   "outputs": [
    {
     "data": {
      "text/html": [
       "<div>\n",
       "<style scoped>\n",
       "    .dataframe tbody tr th:only-of-type {\n",
       "        vertical-align: middle;\n",
       "    }\n",
       "\n",
       "    .dataframe tbody tr th {\n",
       "        vertical-align: top;\n",
       "    }\n",
       "\n",
       "    .dataframe thead tr th {\n",
       "        text-align: left;\n",
       "    }\n",
       "\n",
       "    .dataframe thead tr:last-of-type th {\n",
       "        text-align: right;\n",
       "    }\n",
       "</style>\n",
       "<table border=\"1\" class=\"dataframe\">\n",
       "  <thead>\n",
       "    <tr>\n",
       "      <th></th>\n",
       "      <th colspan=\"8\" halign=\"left\">anime_id</th>\n",
       "      <th colspan=\"2\" halign=\"left\">episodes</th>\n",
       "      <th>...</th>\n",
       "      <th colspan=\"2\" halign=\"left\">rating</th>\n",
       "      <th colspan=\"8\" halign=\"left\">members</th>\n",
       "    </tr>\n",
       "    <tr>\n",
       "      <th></th>\n",
       "      <th>count</th>\n",
       "      <th>mean</th>\n",
       "      <th>std</th>\n",
       "      <th>min</th>\n",
       "      <th>25%</th>\n",
       "      <th>50%</th>\n",
       "      <th>75%</th>\n",
       "      <th>max</th>\n",
       "      <th>count</th>\n",
       "      <th>mean</th>\n",
       "      <th>...</th>\n",
       "      <th>75%</th>\n",
       "      <th>max</th>\n",
       "      <th>count</th>\n",
       "      <th>mean</th>\n",
       "      <th>std</th>\n",
       "      <th>min</th>\n",
       "      <th>25%</th>\n",
       "      <th>50%</th>\n",
       "      <th>75%</th>\n",
       "      <th>max</th>\n",
       "    </tr>\n",
       "    <tr>\n",
       "      <th>type</th>\n",
       "      <th></th>\n",
       "      <th></th>\n",
       "      <th></th>\n",
       "      <th></th>\n",
       "      <th></th>\n",
       "      <th></th>\n",
       "      <th></th>\n",
       "      <th></th>\n",
       "      <th></th>\n",
       "      <th></th>\n",
       "      <th></th>\n",
       "      <th></th>\n",
       "      <th></th>\n",
       "      <th></th>\n",
       "      <th></th>\n",
       "      <th></th>\n",
       "      <th></th>\n",
       "      <th></th>\n",
       "      <th></th>\n",
       "      <th></th>\n",
       "      <th></th>\n",
       "    </tr>\n",
       "  </thead>\n",
       "  <tbody>\n",
       "    <tr>\n",
       "      <td>Movie</td>\n",
       "      <td>2220.0</td>\n",
       "      <td>14322.5</td>\n",
       "      <td>10925.7</td>\n",
       "      <td>5.0</td>\n",
       "      <td>4396.8</td>\n",
       "      <td>10677.5</td>\n",
       "      <td>24071.5</td>\n",
       "      <td>34201.0</td>\n",
       "      <td>2220.0</td>\n",
       "      <td>1.1</td>\n",
       "      <td>...</td>\n",
       "      <td>7.3</td>\n",
       "      <td>10.0</td>\n",
       "      <td>2220.0</td>\n",
       "      <td>10654.0</td>\n",
       "      <td>31603.6</td>\n",
       "      <td>13.0</td>\n",
       "      <td>119.0</td>\n",
       "      <td>489.5</td>\n",
       "      <td>4239.0</td>\n",
       "      <td>466254.0</td>\n",
       "    </tr>\n",
       "    <tr>\n",
       "      <td>Music</td>\n",
       "      <td>485.0</td>\n",
       "      <td>22495.1</td>\n",
       "      <td>10175.0</td>\n",
       "      <td>731.0</td>\n",
       "      <td>12101.0</td>\n",
       "      <td>24903.0</td>\n",
       "      <td>31925.0</td>\n",
       "      <td>34412.0</td>\n",
       "      <td>485.0</td>\n",
       "      <td>1.1</td>\n",
       "      <td>...</td>\n",
       "      <td>6.2</td>\n",
       "      <td>8.4</td>\n",
       "      <td>485.0</td>\n",
       "      <td>1273.0</td>\n",
       "      <td>4489.0</td>\n",
       "      <td>24.0</td>\n",
       "      <td>97.0</td>\n",
       "      <td>226.0</td>\n",
       "      <td>797.0</td>\n",
       "      <td>71136.0</td>\n",
       "    </tr>\n",
       "    <tr>\n",
       "      <td>ONA</td>\n",
       "      <td>591.0</td>\n",
       "      <td>22738.0</td>\n",
       "      <td>10346.0</td>\n",
       "      <td>574.0</td>\n",
       "      <td>13467.0</td>\n",
       "      <td>25241.0</td>\n",
       "      <td>32287.5</td>\n",
       "      <td>34514.0</td>\n",
       "      <td>591.0</td>\n",
       "      <td>6.8</td>\n",
       "      <td>...</td>\n",
       "      <td>6.4</td>\n",
       "      <td>8.3</td>\n",
       "      <td>591.0</td>\n",
       "      <td>4401.8</td>\n",
       "      <td>12994.9</td>\n",
       "      <td>25.0</td>\n",
       "      <td>108.5</td>\n",
       "      <td>336.0</td>\n",
       "      <td>1890.5</td>\n",
       "      <td>144898.0</td>\n",
       "    </tr>\n",
       "    <tr>\n",
       "      <td>OVA</td>\n",
       "      <td>1932.0</td>\n",
       "      <td>12207.7</td>\n",
       "      <td>10718.7</td>\n",
       "      <td>44.0</td>\n",
       "      <td>2297.2</td>\n",
       "      <td>8965.5</td>\n",
       "      <td>22459.5</td>\n",
       "      <td>34349.0</td>\n",
       "      <td>1932.0</td>\n",
       "      <td>2.5</td>\n",
       "      <td>...</td>\n",
       "      <td>7.1</td>\n",
       "      <td>9.2</td>\n",
       "      <td>1932.0</td>\n",
       "      <td>6849.5</td>\n",
       "      <td>17479.7</td>\n",
       "      <td>17.0</td>\n",
       "      <td>122.0</td>\n",
       "      <td>1027.0</td>\n",
       "      <td>5706.0</td>\n",
       "      <td>305165.0</td>\n",
       "    </tr>\n",
       "    <tr>\n",
       "      <td>Special</td>\n",
       "      <td>1517.0</td>\n",
       "      <td>16802.3</td>\n",
       "      <td>10838.8</td>\n",
       "      <td>191.0</td>\n",
       "      <td>6877.0</td>\n",
       "      <td>15815.0</td>\n",
       "      <td>27821.0</td>\n",
       "      <td>34519.0</td>\n",
       "      <td>1517.0</td>\n",
       "      <td>2.5</td>\n",
       "      <td>...</td>\n",
       "      <td>7.1</td>\n",
       "      <td>8.7</td>\n",
       "      <td>1517.0</td>\n",
       "      <td>7424.6</td>\n",
       "      <td>15666.1</td>\n",
       "      <td>24.0</td>\n",
       "      <td>298.0</td>\n",
       "      <td>1906.0</td>\n",
       "      <td>6978.0</td>\n",
       "      <td>160423.0</td>\n",
       "    </tr>\n",
       "    <tr>\n",
       "      <td>TV</td>\n",
       "      <td>3330.0</td>\n",
       "      <td>10929.6</td>\n",
       "      <td>10645.4</td>\n",
       "      <td>1.0</td>\n",
       "      <td>2112.2</td>\n",
       "      <td>6511.5</td>\n",
       "      <td>18938.5</td>\n",
       "      <td>34503.0</td>\n",
       "      <td>3330.0</td>\n",
       "      <td>37.5</td>\n",
       "      <td>...</td>\n",
       "      <td>7.5</td>\n",
       "      <td>9.3</td>\n",
       "      <td>3330.0</td>\n",
       "      <td>41832.3</td>\n",
       "      <td>89925.6</td>\n",
       "      <td>12.0</td>\n",
       "      <td>443.0</td>\n",
       "      <td>5617.0</td>\n",
       "      <td>41568.2</td>\n",
       "      <td>1013917.0</td>\n",
       "    </tr>\n",
       "  </tbody>\n",
       "</table>\n",
       "<p>6 rows × 32 columns</p>\n",
       "</div>"
      ],
      "text/plain": [
       "        anime_id                                                               \\\n",
       "           count     mean      std    min      25%      50%      75%      max   \n",
       "type                                                                            \n",
       "Movie     2220.0  14322.5  10925.7    5.0   4396.8  10677.5  24071.5  34201.0   \n",
       "Music      485.0  22495.1  10175.0  731.0  12101.0  24903.0  31925.0  34412.0   \n",
       "ONA        591.0  22738.0  10346.0  574.0  13467.0  25241.0  32287.5  34514.0   \n",
       "OVA       1932.0  12207.7  10718.7   44.0   2297.2   8965.5  22459.5  34349.0   \n",
       "Special   1517.0  16802.3  10838.8  191.0   6877.0  15815.0  27821.0  34519.0   \n",
       "TV        3330.0  10929.6  10645.4    1.0   2112.2   6511.5  18938.5  34503.0   \n",
       "\n",
       "        episodes        ... rating       members                          \\\n",
       "           count  mean  ...    75%   max   count     mean      std   min   \n",
       "type                    ...                                                \n",
       "Movie     2220.0   1.1  ...    7.3  10.0  2220.0  10654.0  31603.6  13.0   \n",
       "Music      485.0   1.1  ...    6.2   8.4   485.0   1273.0   4489.0  24.0   \n",
       "ONA        591.0   6.8  ...    6.4   8.3   591.0   4401.8  12994.9  25.0   \n",
       "OVA       1932.0   2.5  ...    7.1   9.2  1932.0   6849.5  17479.7  17.0   \n",
       "Special   1517.0   2.5  ...    7.1   8.7  1517.0   7424.6  15666.1  24.0   \n",
       "TV        3330.0  37.5  ...    7.5   9.3  3330.0  41832.3  89925.6  12.0   \n",
       "\n",
       "                                            \n",
       "           25%     50%      75%        max  \n",
       "type                                        \n",
       "Movie    119.0   489.5   4239.0   466254.0  \n",
       "Music     97.0   226.0    797.0    71136.0  \n",
       "ONA      108.5   336.0   1890.5   144898.0  \n",
       "OVA      122.0  1027.0   5706.0   305165.0  \n",
       "Special  298.0  1906.0   6978.0   160423.0  \n",
       "TV       443.0  5617.0  41568.2  1013917.0  \n",
       "\n",
       "[6 rows x 32 columns]"
      ]
     },
     "execution_count": 111,
     "metadata": {},
     "output_type": "execute_result"
    }
   ],
   "source": [
    "# 集約されたデータの基本統計量\n",
    "grouped.describe().round(1).head(16)"
   ]
  },
  {
   "cell_type": "code",
   "execution_count": 113,
   "metadata": {},
   "outputs": [
    {
     "data": {
      "text/html": [
       "<div>\n",
       "<style scoped>\n",
       "    .dataframe tbody tr th:only-of-type {\n",
       "        vertical-align: middle;\n",
       "    }\n",
       "\n",
       "    .dataframe tbody tr th {\n",
       "        vertical-align: top;\n",
       "    }\n",
       "\n",
       "    .dataframe thead th {\n",
       "        text-align: right;\n",
       "    }\n",
       "</style>\n",
       "<table border=\"1\" class=\"dataframe\">\n",
       "  <thead>\n",
       "    <tr style=\"text-align: right;\">\n",
       "      <th></th>\n",
       "      <th></th>\n",
       "      <th>anime_id</th>\n",
       "      <th>rating</th>\n",
       "      <th>members</th>\n",
       "    </tr>\n",
       "    <tr>\n",
       "      <th>type</th>\n",
       "      <th>episodes</th>\n",
       "      <th></th>\n",
       "      <th></th>\n",
       "      <th></th>\n",
       "    </tr>\n",
       "  </thead>\n",
       "  <tbody>\n",
       "    <tr>\n",
       "      <td rowspan=\"5\" valign=\"top\">Movie</td>\n",
       "      <td>1</td>\n",
       "      <td>14320.0</td>\n",
       "      <td>6.3</td>\n",
       "      <td>10588.6</td>\n",
       "    </tr>\n",
       "    <tr>\n",
       "      <td>2</td>\n",
       "      <td>13802.0</td>\n",
       "      <td>6.9</td>\n",
       "      <td>6638.9</td>\n",
       "    </tr>\n",
       "    <tr>\n",
       "      <td>3</td>\n",
       "      <td>11339.3</td>\n",
       "      <td>6.7</td>\n",
       "      <td>53598.1</td>\n",
       "    </tr>\n",
       "    <tr>\n",
       "      <td>4</td>\n",
       "      <td>15723.5</td>\n",
       "      <td>7.3</td>\n",
       "      <td>3566.5</td>\n",
       "    </tr>\n",
       "    <tr>\n",
       "      <td>5</td>\n",
       "      <td>12558.3</td>\n",
       "      <td>6.1</td>\n",
       "      <td>3641.0</td>\n",
       "    </tr>\n",
       "    <tr>\n",
       "      <td>...</td>\n",
       "      <td>...</td>\n",
       "      <td>...</td>\n",
       "      <td>...</td>\n",
       "      <td>...</td>\n",
       "    </tr>\n",
       "    <tr>\n",
       "      <td rowspan=\"5\" valign=\"top\">Music</td>\n",
       "      <td>5</td>\n",
       "      <td>14359.0</td>\n",
       "      <td>6.2</td>\n",
       "      <td>1582.0</td>\n",
       "    </tr>\n",
       "    <tr>\n",
       "      <td>7</td>\n",
       "      <td>8348.0</td>\n",
       "      <td>7.1</td>\n",
       "      <td>13361.0</td>\n",
       "    </tr>\n",
       "    <tr>\n",
       "      <td>8</td>\n",
       "      <td>4705.0</td>\n",
       "      <td>7.3</td>\n",
       "      <td>22213.0</td>\n",
       "    </tr>\n",
       "    <tr>\n",
       "      <td>14</td>\n",
       "      <td>5016.0</td>\n",
       "      <td>6.7</td>\n",
       "      <td>2240.0</td>\n",
       "    </tr>\n",
       "    <tr>\n",
       "      <td>24</td>\n",
       "      <td>32633.0</td>\n",
       "      <td>7.6</td>\n",
       "      <td>560.0</td>\n",
       "    </tr>\n",
       "  </tbody>\n",
       "</table>\n",
       "<p>20 rows × 3 columns</p>\n",
       "</div>"
      ],
      "text/plain": [
       "                anime_id  rating  members\n",
       "type  episodes                           \n",
       "Movie 1          14320.0     6.3  10588.6\n",
       "      2          13802.0     6.9   6638.9\n",
       "      3          11339.3     6.7  53598.1\n",
       "      4          15723.5     7.3   3566.5\n",
       "      5          12558.3     6.1   3641.0\n",
       "...                  ...     ...      ...\n",
       "Music 5          14359.0     6.2   1582.0\n",
       "      7           8348.0     7.1  13361.0\n",
       "      8           4705.0     7.3  22213.0\n",
       "      14          5016.0     6.7   2240.0\n",
       "      24         32633.0     7.6    560.0\n",
       "\n",
       "[20 rows x 3 columns]"
      ]
     },
     "execution_count": 113,
     "metadata": {},
     "output_type": "execute_result"
    }
   ],
   "source": [
    "# 複数の要素で集約する場合\n",
    "df.groupby(['type', 'episodes']).mean().round(1).head(20)"
   ]
  },
  {
   "cell_type": "markdown",
   "metadata": {},
   "source": [
    "#### pivot_tableメソッドで集約する"
   ]
  },
  {
   "cell_type": "code",
   "execution_count": 114,
   "metadata": {},
   "outputs": [
    {
     "data": {
      "text/html": [
       "<div>\n",
       "<style scoped>\n",
       "    .dataframe tbody tr th:only-of-type {\n",
       "        vertical-align: middle;\n",
       "    }\n",
       "\n",
       "    .dataframe tbody tr th {\n",
       "        vertical-align: top;\n",
       "    }\n",
       "\n",
       "    .dataframe thead th {\n",
       "        text-align: right;\n",
       "    }\n",
       "</style>\n",
       "<table border=\"1\" class=\"dataframe\">\n",
       "  <thead>\n",
       "    <tr style=\"text-align: right;\">\n",
       "      <th></th>\n",
       "      <th>anime_id</th>\n",
       "      <th>episodes</th>\n",
       "      <th>members</th>\n",
       "      <th>rating</th>\n",
       "    </tr>\n",
       "    <tr>\n",
       "      <th>type</th>\n",
       "      <th></th>\n",
       "      <th></th>\n",
       "      <th></th>\n",
       "      <th></th>\n",
       "    </tr>\n",
       "  </thead>\n",
       "  <tbody>\n",
       "    <tr>\n",
       "      <td>Movie</td>\n",
       "      <td>14322.477928</td>\n",
       "      <td>1.100901</td>\n",
       "      <td>10654.022072</td>\n",
       "      <td>6.328599</td>\n",
       "    </tr>\n",
       "    <tr>\n",
       "      <td>Music</td>\n",
       "      <td>22495.111340</td>\n",
       "      <td>1.125773</td>\n",
       "      <td>1273.028866</td>\n",
       "      <td>5.583918</td>\n",
       "    </tr>\n",
       "    <tr>\n",
       "      <td>ONA</td>\n",
       "      <td>22738.000000</td>\n",
       "      <td>6.778342</td>\n",
       "      <td>4401.822335</td>\n",
       "      <td>5.629628</td>\n",
       "    </tr>\n",
       "    <tr>\n",
       "      <td>OVA</td>\n",
       "      <td>12207.692547</td>\n",
       "      <td>2.549689</td>\n",
       "      <td>6849.526398</td>\n",
       "      <td>6.475217</td>\n",
       "    </tr>\n",
       "    <tr>\n",
       "      <td>Special</td>\n",
       "      <td>16802.341463</td>\n",
       "      <td>2.495715</td>\n",
       "      <td>7424.628873</td>\n",
       "      <td>6.525577</td>\n",
       "    </tr>\n",
       "    <tr>\n",
       "      <td>TV</td>\n",
       "      <td>10929.554655</td>\n",
       "      <td>37.456156</td>\n",
       "      <td>41832.314414</td>\n",
       "      <td>6.928961</td>\n",
       "    </tr>\n",
       "  </tbody>\n",
       "</table>\n",
       "</div>"
      ],
      "text/plain": [
       "             anime_id   episodes       members    rating\n",
       "type                                                    \n",
       "Movie    14322.477928   1.100901  10654.022072  6.328599\n",
       "Music    22495.111340   1.125773   1273.028866  5.583918\n",
       "ONA      22738.000000   6.778342   4401.822335  5.629628\n",
       "OVA      12207.692547   2.549689   6849.526398  6.475217\n",
       "Special  16802.341463   2.495715   7424.628873  6.525577\n",
       "TV       10929.554655  37.456156  41832.314414  6.928961"
      ]
     },
     "execution_count": 114,
     "metadata": {},
     "output_type": "execute_result"
    }
   ],
   "source": [
    "# キーワード引数indexに集約対象の列名、aggfuncに集計する関数を指定\n",
    "df.pivot_table(index='type', aggfunc=np.mean)"
   ]
  },
  {
   "cell_type": "code",
   "execution_count": 115,
   "metadata": {},
   "outputs": [
    {
     "data": {
      "text/html": [
       "<div>\n",
       "<style scoped>\n",
       "    .dataframe tbody tr th:only-of-type {\n",
       "        vertical-align: middle;\n",
       "    }\n",
       "\n",
       "    .dataframe tbody tr th {\n",
       "        vertical-align: top;\n",
       "    }\n",
       "\n",
       "    .dataframe thead th {\n",
       "        text-align: right;\n",
       "    }\n",
       "</style>\n",
       "<table border=\"1\" class=\"dataframe\">\n",
       "  <thead>\n",
       "    <tr style=\"text-align: right;\">\n",
       "      <th></th>\n",
       "      <th></th>\n",
       "      <th>anime_id</th>\n",
       "      <th>members</th>\n",
       "      <th>rating</th>\n",
       "    </tr>\n",
       "    <tr>\n",
       "      <th>type</th>\n",
       "      <th>episodes</th>\n",
       "      <th></th>\n",
       "      <th></th>\n",
       "      <th></th>\n",
       "    </tr>\n",
       "  </thead>\n",
       "  <tbody>\n",
       "    <tr>\n",
       "      <td rowspan=\"5\" valign=\"top\">Movie</td>\n",
       "      <td>1</td>\n",
       "      <td>14320.010507</td>\n",
       "      <td>10588.556418</td>\n",
       "      <td>6.325464</td>\n",
       "    </tr>\n",
       "    <tr>\n",
       "      <td>2</td>\n",
       "      <td>13802.000000</td>\n",
       "      <td>6638.875000</td>\n",
       "      <td>6.930000</td>\n",
       "    </tr>\n",
       "    <tr>\n",
       "      <td>3</td>\n",
       "      <td>11339.285714</td>\n",
       "      <td>53598.142857</td>\n",
       "      <td>6.661429</td>\n",
       "    </tr>\n",
       "    <tr>\n",
       "      <td>4</td>\n",
       "      <td>15723.500000</td>\n",
       "      <td>3566.500000</td>\n",
       "      <td>7.260000</td>\n",
       "    </tr>\n",
       "    <tr>\n",
       "      <td>5</td>\n",
       "      <td>12558.333333</td>\n",
       "      <td>3641.000000</td>\n",
       "      <td>6.063333</td>\n",
       "    </tr>\n",
       "    <tr>\n",
       "      <td>...</td>\n",
       "      <td>...</td>\n",
       "      <td>...</td>\n",
       "      <td>...</td>\n",
       "      <td>...</td>\n",
       "    </tr>\n",
       "    <tr>\n",
       "      <td rowspan=\"5\" valign=\"top\">TV</td>\n",
       "      <td>1428</td>\n",
       "      <td>8213.000000</td>\n",
       "      <td>194.000000</td>\n",
       "      <td>6.050000</td>\n",
       "    </tr>\n",
       "    <tr>\n",
       "      <td>1471</td>\n",
       "      <td>6277.000000</td>\n",
       "      <td>406.000000</td>\n",
       "      <td>6.480000</td>\n",
       "    </tr>\n",
       "    <tr>\n",
       "      <td>1565</td>\n",
       "      <td>23349.000000</td>\n",
       "      <td>116.000000</td>\n",
       "      <td>5.560000</td>\n",
       "    </tr>\n",
       "    <tr>\n",
       "      <td>1787</td>\n",
       "      <td>2471.000000</td>\n",
       "      <td>14233.000000</td>\n",
       "      <td>7.760000</td>\n",
       "    </tr>\n",
       "    <tr>\n",
       "      <td>1818</td>\n",
       "      <td>12393.000000</td>\n",
       "      <td>160.000000</td>\n",
       "      <td>6.180000</td>\n",
       "    </tr>\n",
       "  </tbody>\n",
       "</table>\n",
       "<p>291 rows × 3 columns</p>\n",
       "</div>"
      ],
      "text/plain": [
       "                    anime_id       members    rating\n",
       "type  episodes                                      \n",
       "Movie 1         14320.010507  10588.556418  6.325464\n",
       "      2         13802.000000   6638.875000  6.930000\n",
       "      3         11339.285714  53598.142857  6.661429\n",
       "      4         15723.500000   3566.500000  7.260000\n",
       "      5         12558.333333   3641.000000  6.063333\n",
       "...                      ...           ...       ...\n",
       "TV    1428       8213.000000    194.000000  6.050000\n",
       "      1471       6277.000000    406.000000  6.480000\n",
       "      1565      23349.000000    116.000000  5.560000\n",
       "      1787       2471.000000  14233.000000  7.760000\n",
       "      1818      12393.000000    160.000000  6.180000\n",
       "\n",
       "[291 rows x 3 columns]"
      ]
     },
     "execution_count": 115,
     "metadata": {},
     "output_type": "execute_result"
    }
   ],
   "source": [
    "# 複数列の場合\n",
    "df.pivot_table(index=['type', 'episodes'], aggfunc=np.mean)"
   ]
  },
  {
   "cell_type": "markdown",
   "metadata": {},
   "source": [
    "### クロス集計する\n",
    "- 1:カンマ区切りで入力されているgenre列をユニークにして取り出す\n",
    "- 2:元のDFから1を取り出す\n",
    "- 3:2を結合"
   ]
  },
  {
   "cell_type": "code",
   "execution_count": 121,
   "metadata": {},
   "outputs": [
    {
     "data": {
      "text/plain": [
       "array(['Action', 'Adventure', 'Cars', 'Comedy', 'Dementia', 'Demons',\n",
       "       'Drama', 'Fantasy', 'Game', 'Harem', 'Historical', 'Horror',\n",
       "       'Josei', 'Kids', 'Magic', 'Martial Arts', 'Mecha', 'Military',\n",
       "       'Music', 'Mystery', 'Parody', 'Police', 'Psychological', 'Romance',\n",
       "       'Samurai', 'School', 'Sci-Fi', 'Seinen', 'Shoujo', 'Shoujo Ai',\n",
       "       'Shounen', 'Shounen Ai', 'Slice of Life', 'Space', 'Sports',\n",
       "       'Super Power', 'Supernatural', 'Thriller', 'Vampire'], dtype=object)"
      ]
     },
     "execution_count": 121,
     "metadata": {},
     "output_type": "execute_result"
    }
   ],
   "source": [
    "# genres列のカンマ区切りのデータを分割\n",
    "genres = df['genre'].map(lambda x : x.split(','))\n",
    "\n",
    "# numpy.arrayにして2次元から1次元のデータに変換\n",
    "ser = pd.Series(np.hstack(genres.values))\n",
    "\n",
    "# ユニークにする\n",
    "unique_genres = ser.str.strip().unique()\n",
    "unique_genres.sort()\n",
    "unique_genres"
   ]
  },
  {
   "cell_type": "code",
   "execution_count": 127,
   "metadata": {},
   "outputs": [],
   "source": [
    "# genreごとのDataFrameを結合する前処理\n",
    "\n",
    "#指定したジャンル名をDataFrameから抽出\n",
    "def filter_df_by_genre(df, genre):\n",
    "    genre_df = df.loc[df['genre'].map(lambda x: genre in x)].copy()\n",
    "    genre_df['genre'] = genre\n",
    "    return genre_df"
   ]
  },
  {
   "cell_type": "code",
   "execution_count": 135,
   "metadata": {},
   "outputs": [
    {
     "data": {
      "text/html": [
       "<div>\n",
       "<style scoped>\n",
       "    .dataframe tbody tr th:only-of-type {\n",
       "        vertical-align: middle;\n",
       "    }\n",
       "\n",
       "    .dataframe tbody tr th {\n",
       "        vertical-align: top;\n",
       "    }\n",
       "\n",
       "    .dataframe thead th {\n",
       "        text-align: right;\n",
       "    }\n",
       "</style>\n",
       "<table border=\"1\" class=\"dataframe\">\n",
       "  <thead>\n",
       "    <tr style=\"text-align: right;\">\n",
       "      <th></th>\n",
       "      <th>anime_id</th>\n",
       "      <th>name</th>\n",
       "      <th>genre</th>\n",
       "      <th>type</th>\n",
       "      <th>episodes</th>\n",
       "      <th>rating</th>\n",
       "      <th>members</th>\n",
       "    </tr>\n",
       "  </thead>\n",
       "  <tbody>\n",
       "    <tr>\n",
       "      <td>2943</td>\n",
       "      <td>7669</td>\n",
       "      <td>\"Bungaku Shoujo\" Kyou no Oyatsu: Hatsukoi</td>\n",
       "      <td>Comedy</td>\n",
       "      <td>OVA</td>\n",
       "      <td>1</td>\n",
       "      <td>7.06</td>\n",
       "      <td>14351</td>\n",
       "    </tr>\n",
       "    <tr>\n",
       "      <td>2943</td>\n",
       "      <td>7669</td>\n",
       "      <td>\"Bungaku Shoujo\" Kyou no Oyatsu: Hatsukoi</td>\n",
       "      <td>School</td>\n",
       "      <td>OVA</td>\n",
       "      <td>1</td>\n",
       "      <td>7.06</td>\n",
       "      <td>14351</td>\n",
       "    </tr>\n",
       "    <tr>\n",
       "      <td>2943</td>\n",
       "      <td>7669</td>\n",
       "      <td>\"Bungaku Shoujo\" Kyou no Oyatsu: Hatsukoi</td>\n",
       "      <td>Fantasy</td>\n",
       "      <td>OVA</td>\n",
       "      <td>1</td>\n",
       "      <td>7.06</td>\n",
       "      <td>14351</td>\n",
       "    </tr>\n",
       "    <tr>\n",
       "      <td>1376</td>\n",
       "      <td>8481</td>\n",
       "      <td>\"Bungaku Shoujo\" Memoire</td>\n",
       "      <td>School</td>\n",
       "      <td>OVA</td>\n",
       "      <td>3</td>\n",
       "      <td>7.54</td>\n",
       "      <td>18013</td>\n",
       "    </tr>\n",
       "    <tr>\n",
       "      <td>1376</td>\n",
       "      <td>8481</td>\n",
       "      <td>\"Bungaku Shoujo\" Memoire</td>\n",
       "      <td>Drama</td>\n",
       "      <td>OVA</td>\n",
       "      <td>3</td>\n",
       "      <td>7.54</td>\n",
       "      <td>18013</td>\n",
       "    </tr>\n",
       "    <tr>\n",
       "      <td>...</td>\n",
       "      <td>...</td>\n",
       "      <td>...</td>\n",
       "      <td>...</td>\n",
       "      <td>...</td>\n",
       "      <td>...</td>\n",
       "      <td>...</td>\n",
       "      <td>...</td>\n",
       "    </tr>\n",
       "    <tr>\n",
       "      <td>474</td>\n",
       "      <td>793</td>\n",
       "      <td>xxxHOLiC Movie: Manatsu no Yoru no Yume</td>\n",
       "      <td>Comedy</td>\n",
       "      <td>Movie</td>\n",
       "      <td>1</td>\n",
       "      <td>8.04</td>\n",
       "      <td>41547</td>\n",
       "    </tr>\n",
       "    <tr>\n",
       "      <td>209</td>\n",
       "      <td>6864</td>\n",
       "      <td>xxxHOLiC Rou</td>\n",
       "      <td>Supernatural</td>\n",
       "      <td>OVA</td>\n",
       "      <td>2</td>\n",
       "      <td>8.32</td>\n",
       "      <td>36353</td>\n",
       "    </tr>\n",
       "    <tr>\n",
       "      <td>334</td>\n",
       "      <td>4918</td>\n",
       "      <td>xxxHOLiC Shunmuki</td>\n",
       "      <td>Supernatural</td>\n",
       "      <td>OVA</td>\n",
       "      <td>2</td>\n",
       "      <td>8.17</td>\n",
       "      <td>40401</td>\n",
       "    </tr>\n",
       "    <tr>\n",
       "      <td>334</td>\n",
       "      <td>4918</td>\n",
       "      <td>xxxHOLiC Shunmuki</td>\n",
       "      <td>Drama</td>\n",
       "      <td>OVA</td>\n",
       "      <td>2</td>\n",
       "      <td>8.17</td>\n",
       "      <td>40401</td>\n",
       "    </tr>\n",
       "    <tr>\n",
       "      <td>334</td>\n",
       "      <td>4918</td>\n",
       "      <td>xxxHOLiC Shunmuki</td>\n",
       "      <td>Comedy</td>\n",
       "      <td>OVA</td>\n",
       "      <td>2</td>\n",
       "      <td>8.17</td>\n",
       "      <td>40401</td>\n",
       "    </tr>\n",
       "  </tbody>\n",
       "</table>\n",
       "<p>19027 rows × 7 columns</p>\n",
       "</div>"
      ],
      "text/plain": [
       "      anime_id                                       name         genre  \\\n",
       "2943      7669  \"Bungaku Shoujo\" Kyou no Oyatsu: Hatsukoi        Comedy   \n",
       "2943      7669  \"Bungaku Shoujo\" Kyou no Oyatsu: Hatsukoi        School   \n",
       "2943      7669  \"Bungaku Shoujo\" Kyou no Oyatsu: Hatsukoi       Fantasy   \n",
       "1376      8481                   \"Bungaku Shoujo\" Memoire        School   \n",
       "1376      8481                   \"Bungaku Shoujo\" Memoire         Drama   \n",
       "...        ...                                        ...           ...   \n",
       "474        793    xxxHOLiC Movie: Manatsu no Yoru no Yume        Comedy   \n",
       "209       6864                               xxxHOLiC Rou  Supernatural   \n",
       "334       4918                          xxxHOLiC Shunmuki  Supernatural   \n",
       "334       4918                          xxxHOLiC Shunmuki         Drama   \n",
       "334       4918                          xxxHOLiC Shunmuki        Comedy   \n",
       "\n",
       "       type  episodes  rating  members  \n",
       "2943    OVA         1    7.06    14351  \n",
       "2943    OVA         1    7.06    14351  \n",
       "2943    OVA         1    7.06    14351  \n",
       "1376    OVA         3    7.54    18013  \n",
       "1376    OVA         3    7.54    18013  \n",
       "...     ...       ...     ...      ...  \n",
       "474   Movie         1    8.04    41547  \n",
       "209     OVA         2    8.32    36353  \n",
       "334     OVA         2    8.17    40401  \n",
       "334     OVA         2    8.17    40401  \n",
       "334     OVA         2    8.17    40401  \n",
       "\n",
       "[19027 rows x 7 columns]"
      ]
     },
     "execution_count": 135,
     "metadata": {},
     "output_type": "execute_result"
    }
   ],
   "source": [
    "# 関数を全てのジャンルに対して実行\n",
    "genre_df_list = [filter_df_by_genre(df,genre) for genre in unique_genres]\n",
    "\n",
    "# 上記dataを統合\n",
    "df2 = pd.concat(genre_df_list)\n",
    "# name列でソート\n",
    "df2.sort_values('name', inplace=True)\n",
    "\n",
    "# メンバ数が多いジャンルトップ10\n",
    "top10 = df2.groupby('genre')['members'].sum().sort_values(ascending=False).index[:10]\n",
    "\n",
    "# top10からデータを抽出\n",
    "df2 = df2[df2['genre'].isin(top10)]\n",
    "df2"
   ]
  },
  {
   "cell_type": "code",
   "execution_count": 141,
   "metadata": {},
   "outputs": [
    {
     "data": {
      "text/html": [
       "<div>\n",
       "<style scoped>\n",
       "    .dataframe tbody tr th:only-of-type {\n",
       "        vertical-align: middle;\n",
       "    }\n",
       "\n",
       "    .dataframe tbody tr th {\n",
       "        vertical-align: top;\n",
       "    }\n",
       "\n",
       "    .dataframe thead th {\n",
       "        text-align: right;\n",
       "    }\n",
       "</style>\n",
       "<table border=\"1\" class=\"dataframe\">\n",
       "  <thead>\n",
       "    <tr style=\"text-align: right;\">\n",
       "      <th></th>\n",
       "      <th>anime_id</th>\n",
       "      <th>name</th>\n",
       "      <th>genre</th>\n",
       "      <th>type</th>\n",
       "      <th>episodes</th>\n",
       "      <th>rating</th>\n",
       "      <th>members</th>\n",
       "    </tr>\n",
       "  </thead>\n",
       "  <tbody>\n",
       "    <tr>\n",
       "      <td>0</td>\n",
       "      <td>32281</td>\n",
       "      <td>Kimi no Na wa.</td>\n",
       "      <td>Supernatural</td>\n",
       "      <td>Movie</td>\n",
       "      <td>1</td>\n",
       "      <td>9.37</td>\n",
       "      <td>200630</td>\n",
       "    </tr>\n",
       "    <tr>\n",
       "      <td>0</td>\n",
       "      <td>32281</td>\n",
       "      <td>Kimi no Na wa.</td>\n",
       "      <td>Drama</td>\n",
       "      <td>Movie</td>\n",
       "      <td>1</td>\n",
       "      <td>9.37</td>\n",
       "      <td>200630</td>\n",
       "    </tr>\n",
       "    <tr>\n",
       "      <td>0</td>\n",
       "      <td>32281</td>\n",
       "      <td>Kimi no Na wa.</td>\n",
       "      <td>Romance</td>\n",
       "      <td>Movie</td>\n",
       "      <td>1</td>\n",
       "      <td>9.37</td>\n",
       "      <td>200630</td>\n",
       "    </tr>\n",
       "    <tr>\n",
       "      <td>0</td>\n",
       "      <td>32281</td>\n",
       "      <td>Kimi no Na wa.</td>\n",
       "      <td>School</td>\n",
       "      <td>Movie</td>\n",
       "      <td>1</td>\n",
       "      <td>9.37</td>\n",
       "      <td>200630</td>\n",
       "    </tr>\n",
       "  </tbody>\n",
       "</table>\n",
       "</div>"
      ],
      "text/plain": [
       "   anime_id            name         genre   type  episodes  rating  members\n",
       "0     32281  Kimi no Na wa.  Supernatural  Movie         1    9.37   200630\n",
       "0     32281  Kimi no Na wa.         Drama  Movie         1    9.37   200630\n",
       "0     32281  Kimi no Na wa.       Romance  Movie         1    9.37   200630\n",
       "0     32281  Kimi no Na wa.        School  Movie         1    9.37   200630"
      ]
     },
     "execution_count": 141,
     "metadata": {},
     "output_type": "execute_result"
    }
   ],
   "source": [
    "df2.loc[df2['name'] == 'Kimi no Na wa.']"
   ]
  },
  {
   "cell_type": "code",
   "execution_count": 142,
   "metadata": {},
   "outputs": [
    {
     "data": {
      "text/html": [
       "<div>\n",
       "<style scoped>\n",
       "    .dataframe tbody tr th:only-of-type {\n",
       "        vertical-align: middle;\n",
       "    }\n",
       "\n",
       "    .dataframe tbody tr th {\n",
       "        vertical-align: top;\n",
       "    }\n",
       "\n",
       "    .dataframe thead tr th {\n",
       "        text-align: left;\n",
       "    }\n",
       "\n",
       "    .dataframe thead tr:last-of-type th {\n",
       "        text-align: right;\n",
       "    }\n",
       "</style>\n",
       "<table border=\"1\" class=\"dataframe\">\n",
       "  <thead>\n",
       "    <tr>\n",
       "      <th></th>\n",
       "      <th colspan=\"6\" halign=\"left\">members</th>\n",
       "    </tr>\n",
       "    <tr>\n",
       "      <th>type</th>\n",
       "      <th>Movie</th>\n",
       "      <th>Music</th>\n",
       "      <th>ONA</th>\n",
       "      <th>OVA</th>\n",
       "      <th>Special</th>\n",
       "      <th>TV</th>\n",
       "    </tr>\n",
       "    <tr>\n",
       "      <th>genre</th>\n",
       "      <th></th>\n",
       "      <th></th>\n",
       "      <th></th>\n",
       "      <th></th>\n",
       "      <th></th>\n",
       "      <th></th>\n",
       "    </tr>\n",
       "  </thead>\n",
       "  <tbody>\n",
       "    <tr>\n",
       "      <td>Action</td>\n",
       "      <td>10224960.0</td>\n",
       "      <td>77054.0</td>\n",
       "      <td>524907.0</td>\n",
       "      <td>5793680.0</td>\n",
       "      <td>3412689.0</td>\n",
       "      <td>63364032.0</td>\n",
       "    </tr>\n",
       "    <tr>\n",
       "      <td>Adventure</td>\n",
       "      <td>9485223.0</td>\n",
       "      <td>42829.0</td>\n",
       "      <td>70431.0</td>\n",
       "      <td>2373765.0</td>\n",
       "      <td>2052024.0</td>\n",
       "      <td>27529975.0</td>\n",
       "    </tr>\n",
       "    <tr>\n",
       "      <td>Comedy</td>\n",
       "      <td>7293127.0</td>\n",
       "      <td>20860.0</td>\n",
       "      <td>1477266.0</td>\n",
       "      <td>5614758.0</td>\n",
       "      <td>6659293.0</td>\n",
       "      <td>65420862.0</td>\n",
       "    </tr>\n",
       "    <tr>\n",
       "      <td>Drama</td>\n",
       "      <td>9034099.0</td>\n",
       "      <td>100734.0</td>\n",
       "      <td>188427.0</td>\n",
       "      <td>3043374.0</td>\n",
       "      <td>1915578.0</td>\n",
       "      <td>41011557.0</td>\n",
       "    </tr>\n",
       "    <tr>\n",
       "      <td>Fantasy</td>\n",
       "      <td>8019406.0</td>\n",
       "      <td>43962.0</td>\n",
       "      <td>188937.0</td>\n",
       "      <td>2754224.0</td>\n",
       "      <td>2504131.0</td>\n",
       "      <td>34932563.0</td>\n",
       "    </tr>\n",
       "  </tbody>\n",
       "</table>\n",
       "</div>"
      ],
      "text/plain": [
       "              members                                                       \n",
       "type            Movie     Music        ONA        OVA    Special          TV\n",
       "genre                                                                       \n",
       "Action     10224960.0   77054.0   524907.0  5793680.0  3412689.0  63364032.0\n",
       "Adventure   9485223.0   42829.0    70431.0  2373765.0  2052024.0  27529975.0\n",
       "Comedy      7293127.0   20860.0  1477266.0  5614758.0  6659293.0  65420862.0\n",
       "Drama       9034099.0  100734.0   188427.0  3043374.0  1915578.0  41011557.0\n",
       "Fantasy     8019406.0   43962.0   188937.0  2754224.0  2504131.0  34932563.0"
      ]
     },
     "execution_count": 142,
     "metadata": {},
     "output_type": "execute_result"
    }
   ],
   "source": [
    "# genre列とtype列のクロス集計\n",
    "\n",
    "df2.pivot_table(index='genre', columns='type',\n",
    "               values=['members'], aggfunc=np.sum).head()"
   ]
  },
  {
   "cell_type": "markdown",
   "metadata": {},
   "source": [
    "## 3-9 時系列データの処理"
   ]
  },
  {
   "cell_type": "code",
   "execution_count": 144,
   "metadata": {},
   "outputs": [
    {
     "data": {
      "text/html": [
       "<div>\n",
       "<style scoped>\n",
       "    .dataframe tbody tr th:only-of-type {\n",
       "        vertical-align: middle;\n",
       "    }\n",
       "\n",
       "    .dataframe tbody tr th {\n",
       "        vertical-align: top;\n",
       "    }\n",
       "\n",
       "    .dataframe thead th {\n",
       "        text-align: right;\n",
       "    }\n",
       "</style>\n",
       "<table border=\"1\" class=\"dataframe\">\n",
       "  <thead>\n",
       "    <tr style=\"text-align: right;\">\n",
       "      <th></th>\n",
       "      <th>TOEI ANIMATION</th>\n",
       "      <th>IG Port</th>\n",
       "    </tr>\n",
       "    <tr>\n",
       "      <th>Date</th>\n",
       "      <th></th>\n",
       "      <th></th>\n",
       "    </tr>\n",
       "  </thead>\n",
       "  <tbody>\n",
       "    <tr>\n",
       "      <td>2015-01-01</td>\n",
       "      <td>3356.86</td>\n",
       "      <td>1201.51</td>\n",
       "    </tr>\n",
       "    <tr>\n",
       "      <td>2015-01-02</td>\n",
       "      <td>3356.86</td>\n",
       "      <td>1201.51</td>\n",
       "    </tr>\n",
       "    <tr>\n",
       "      <td>2015-01-05</td>\n",
       "      <td>3396.12</td>\n",
       "      <td>1218.44</td>\n",
       "    </tr>\n",
       "    <tr>\n",
       "      <td>2015-01-06</td>\n",
       "      <td>3361.77</td>\n",
       "      <td>1201.51</td>\n",
       "    </tr>\n",
       "    <tr>\n",
       "      <td>2015-01-07</td>\n",
       "      <td>3297.97</td>\n",
       "      <td>1202.51</td>\n",
       "    </tr>\n",
       "  </tbody>\n",
       "</table>\n",
       "</div>"
      ],
      "text/plain": [
       "            TOEI ANIMATION  IG Port\n",
       "Date                               \n",
       "2015-01-01         3356.86  1201.51\n",
       "2015-01-02         3356.86  1201.51\n",
       "2015-01-05         3396.12  1218.44\n",
       "2015-01-06         3361.77  1201.51\n",
       "2015-01-07         3297.97  1202.51"
      ]
     },
     "execution_count": 144,
     "metadata": {},
     "output_type": "execute_result"
    }
   ],
   "source": [
    "anime_stock_price_csv = 'anime/anime_stock_price.csv'\n",
    "df = pd.read_csv(anime_stock_price_csv, index_col=0, parse_dates=['Date'])\n",
    "df.head()"
   ]
  },
  {
   "cell_type": "markdown",
   "metadata": {},
   "source": [
    "### 時系列データで使用される関数"
   ]
  },
  {
   "cell_type": "code",
   "execution_count": 148,
   "metadata": {},
   "outputs": [
    {
     "data": {
      "text/plain": [
       "Date\n",
       "2015-01-01         NaN\n",
       "2015-01-02    0.000000\n",
       "2015-01-05    0.011695\n",
       "2015-01-06   -0.010114\n",
       "2015-01-07   -0.018978\n",
       "                ...   \n",
       "2016-12-26    0.001725\n",
       "2016-12-27    0.010326\n",
       "2016-12-28    0.015333\n",
       "2016-12-29    0.013422\n",
       "2016-12-30    0.000000\n",
       "Name: TOEI ANIMATION, Length: 522, dtype: float64"
      ]
     },
     "execution_count": 148,
     "metadata": {},
     "output_type": "execute_result"
    }
   ],
   "source": [
    "# pct_change()で1つ前の値からの変化率を算出\n",
    "\n",
    "pct_change= df['TOEI ANIMATION'].pct_change()\n",
    "pct_change"
   ]
  },
  {
   "cell_type": "code",
   "execution_count": 149,
   "metadata": {},
   "outputs": [
    {
     "data": {
      "text/plain": [
       "Date\n",
       "2015-01-01         NaN\n",
       "2015-01-02    1.000000\n",
       "2015-01-05    1.011695\n",
       "2015-01-06    1.001463\n",
       "2015-01-07    0.982457\n",
       "                ...   \n",
       "2016-12-26    1.722833\n",
       "2016-12-27    1.740624\n",
       "2016-12-28    1.767312\n",
       "2016-12-29    1.791034\n",
       "2016-12-30    1.791034\n",
       "Name: TOEI ANIMATION, Length: 522, dtype: float64"
      ]
     },
     "execution_count": 149,
     "metadata": {},
     "output_type": "execute_result"
    }
   ],
   "source": [
    "# cumprod()で累積積を算出\n",
    "cumulative_returns = (pct_change + 1).cumprod()\n",
    "cumulative_returns"
   ]
  },
  {
   "cell_type": "code",
   "execution_count": 150,
   "metadata": {},
   "outputs": [
    {
     "data": {
      "text/plain": [
       "Date\n",
       "2015-01-01         NaN\n",
       "2015-01-02         NaN\n",
       "2015-01-05         NaN\n",
       "2015-01-06         NaN\n",
       "2015-01-07    3353.916\n",
       "                ...   \n",
       "2016-12-26    5793.260\n",
       "2016-12-27    5799.232\n",
       "2016-12-28    5821.132\n",
       "2016-12-29    5868.912\n",
       "2016-12-30    5916.692\n",
       "Name: TOEI ANIMATION, Length: 522, dtype: float64"
      ]
     },
     "execution_count": 150,
     "metadata": {},
     "output_type": "execute_result"
    }
   ],
   "source": [
    "# rollingメソッドでデータ範囲を移動させながら関数を適用、第一引数に区間を指定\n",
    "\n",
    "#過去5日間の移動平均を求める\n",
    "df['TOEI ANIMATION'].rolling(5).mean()"
   ]
  },
  {
   "cell_type": "code",
   "execution_count": 153,
   "metadata": {},
   "outputs": [
    {
     "name": "stderr",
     "output_type": "stream",
     "text": [
      "C:\\Users\\mikam\\Anaconda3\\lib\\site-packages\\ipykernel_launcher.py:7: FutureWarning: Currently, 'apply' passes the values as ndarrays to the applied function. In the future, this will change to passing it as Series objects. You need to specify 'raw=True' to keep the current behaviour, and you can pass 'raw=False' to silence this warning\n",
      "  import sys\n"
     ]
    },
    {
     "data": {
      "text/plain": [
       "Date\n",
       "2015-01-01         NaN\n",
       "2015-01-02         NaN\n",
       "2015-01-05         NaN\n",
       "2015-01-06         NaN\n",
       "2015-01-07         NaN\n",
       "                ...   \n",
       "2016-12-26    0.158355\n",
       "2016-12-27    0.163235\n",
       "2016-12-28    0.170891\n",
       "2016-12-29    0.172681\n",
       "2016-12-30    0.151983\n",
       "Name: TOEI ANIMATION, Length: 522, dtype: float64"
      ]
     },
     "execution_count": 153,
     "metadata": {},
     "output_type": "execute_result"
    }
   ],
   "source": [
    "# 20日間のヒストリカルボラティリティ\n",
    "\n",
    "def historical_volatility(x):\n",
    "    logreturns = np.diff(np.log(x)) # 対数収益率\n",
    "    return np.sqrt(365 * logreturns.var())\n",
    "\n",
    "df['TOEI ANIMATION'].rolling(20).apply(historical_volatility)"
   ]
  },
  {
   "cell_type": "markdown",
   "metadata": {},
   "source": [
    "## DatetimeIndex"
   ]
  },
  {
   "cell_type": "code",
   "execution_count": 154,
   "metadata": {},
   "outputs": [
    {
     "data": {
      "text/plain": [
       "DatetimeIndex(['2017-01-01 00:00:00', '2017-01-01 01:00:00',\n",
       "               '2017-01-01 02:00:00', '2017-01-01 03:00:00',\n",
       "               '2017-01-01 04:00:00', '2017-01-01 05:00:00',\n",
       "               '2017-01-01 06:00:00', '2017-01-01 07:00:00',\n",
       "               '2017-01-01 08:00:00', '2017-01-01 09:00:00',\n",
       "               ...\n",
       "               '2017-01-31 15:00:00', '2017-01-31 16:00:00',\n",
       "               '2017-01-31 17:00:00', '2017-01-31 18:00:00',\n",
       "               '2017-01-31 19:00:00', '2017-01-31 20:00:00',\n",
       "               '2017-01-31 21:00:00', '2017-01-31 22:00:00',\n",
       "               '2017-01-31 23:00:00', '2017-02-01 00:00:00'],\n",
       "              dtype='datetime64[ns]', length=745, freq='H')"
      ]
     },
     "execution_count": 154,
     "metadata": {},
     "output_type": "execute_result"
    }
   ],
   "source": [
    "# DatetimeIndexはdetetime型に特化した処理が出来るindex\n",
    "\n",
    "ix = pd.date_range('2017-01', '2017-02', freq='1H')\n",
    "ix"
   ]
  },
  {
   "cell_type": "markdown",
   "metadata": {},
   "source": [
    "#### SeriesやDataFrameのインデックスとして使用する場合"
   ]
  },
  {
   "cell_type": "code",
   "execution_count": 155,
   "metadata": {},
   "outputs": [
    {
     "data": {
      "text/plain": [
       "2017-01-01 00:00:00      0\n",
       "2017-01-01 01:00:00      1\n",
       "2017-01-01 02:00:00      2\n",
       "2017-01-01 03:00:00      3\n",
       "2017-01-01 04:00:00      4\n",
       "                      ... \n",
       "2017-01-31 20:00:00    740\n",
       "2017-01-31 21:00:00    741\n",
       "2017-01-31 22:00:00    742\n",
       "2017-01-31 23:00:00    743\n",
       "2017-02-01 00:00:00    744\n",
       "Freq: H, Length: 745, dtype: int32"
      ]
     },
     "execution_count": 155,
     "metadata": {},
     "output_type": "execute_result"
    }
   ],
   "source": [
    "time_series = pd.Series(np.arange(len(ix)), index=ix)\n",
    "time_series"
   ]
  },
  {
   "cell_type": "markdown",
   "metadata": {},
   "source": [
    "## 時系列データを抽出する"
   ]
  },
  {
   "cell_type": "code",
   "execution_count": 156,
   "metadata": {},
   "outputs": [
    {
     "data": {
      "text/plain": [
       "TOEI ANIMATION    5699.74\n",
       "IG Port            822.66\n",
       "Name: 2016-01-04 00:00:00, dtype: float64"
      ]
     },
     "execution_count": 156,
     "metadata": {},
     "output_type": "execute_result"
    }
   ],
   "source": [
    "# DatetimeIndexはdatetime型と文字型の両方が指定出来る\n",
    "\n",
    "from datetime import datetime\n",
    "\n",
    "df.loc[datetime(2016,1,4)]"
   ]
  },
  {
   "cell_type": "code",
   "execution_count": 157,
   "metadata": {},
   "outputs": [
    {
     "data": {
      "text/plain": [
       "TOEI ANIMATION    5699.74\n",
       "IG Port            822.66\n",
       "Name: 2016-01-04 00:00:00, dtype: float64"
      ]
     },
     "execution_count": 157,
     "metadata": {},
     "output_type": "execute_result"
    }
   ],
   "source": [
    "# 文字列を指定する場合\n",
    "df.loc['2016-01-04']"
   ]
  },
  {
   "cell_type": "code",
   "execution_count": 158,
   "metadata": {},
   "outputs": [
    {
     "name": "stdout",
     "output_type": "stream",
     "text": [
      "            TOEI ANIMATION  IG Port\n",
      "Date                               \n",
      "2015-01-01         3356.86  1201.51\n",
      "2015-01-02         3356.86  1201.51\n",
      "2015-01-05         3396.12  1218.44\n",
      "2015-01-06         3361.77  1201.51\n",
      "2015-01-07         3297.97  1202.51\n"
     ]
    }
   ],
   "source": [
    "# 特定の年や月のデータのみを抽出する場合\n",
    "print(df.loc['2015'].head())"
   ]
  },
  {
   "cell_type": "code",
   "execution_count": 159,
   "metadata": {},
   "outputs": [
    {
     "name": "stdout",
     "output_type": "stream",
     "text": [
      "            TOEI ANIMATION  IG Port\n",
      "Date                               \n",
      "2015-05-01         3567.29  1168.66\n",
      "2015-05-04         3567.29  1168.66\n",
      "2015-05-05         3567.29  1168.66\n",
      "2015-05-06         3567.29  1168.66\n",
      "2015-05-07         3577.18  1169.66\n"
     ]
    }
   ],
   "source": [
    "# 月を指定した場合\n",
    "print(df.loc['2015-05'].head())"
   ]
  },
  {
   "cell_type": "code",
   "execution_count": 160,
   "metadata": {},
   "outputs": [
    {
     "name": "stdout",
     "output_type": "stream",
     "text": [
      "            TOEI ANIMATION  IG Port\n",
      "Date                               \n",
      "2015-12-01         5947.13   910.41\n",
      "2015-12-02         5917.44   896.45\n",
      "2015-12-03         5917.44   893.46\n",
      "2015-12-04         5867.97   888.47\n",
      "2015-12-07         5917.44   892.46\n",
      "...                    ...      ...\n",
      "2016-01-25         5452.36   704.99\n",
      "2016-01-26         5491.94   702.00\n",
      "2016-01-27         5521.63   721.94\n",
      "2016-01-28         5679.95   733.91\n",
      "2016-01-29         5670.06   739.89\n",
      "\n",
      "[44 rows x 2 columns]\n"
     ]
    }
   ],
   "source": [
    "# 年や月を指定してスライスする場合\n",
    "print(df.loc['2015-12' : '2016-01'])"
   ]
  },
  {
   "cell_type": "code",
   "execution_count": 161,
   "metadata": {},
   "outputs": [
    {
     "data": {
      "text/plain": [
       "2017-01-01 09:00:00      9\n",
       "2017-01-02 09:00:00     33\n",
       "2017-01-03 09:00:00     57\n",
       "2017-01-04 09:00:00     81\n",
       "2017-01-05 09:00:00    105\n",
       "                      ... \n",
       "2017-01-27 09:00:00    633\n",
       "2017-01-28 09:00:00    657\n",
       "2017-01-29 09:00:00    681\n",
       "2017-01-30 09:00:00    705\n",
       "2017-01-31 09:00:00    729\n",
       "Freq: 24H, Length: 31, dtype: int32"
      ]
     },
     "execution_count": 161,
     "metadata": {},
     "output_type": "execute_result"
    }
   ],
   "source": [
    "# 指定した時刻のみのデータを抽出する場合\n",
    "\n",
    "from datetime import time\n",
    "\n",
    "time_series.loc[time(9,0)]"
   ]
  },
  {
   "cell_type": "code",
   "execution_count": 162,
   "metadata": {},
   "outputs": [
    {
     "data": {
      "text/plain": [
       "2017-01-01 09:00:00      9\n",
       "2017-01-01 10:00:00     10\n",
       "2017-01-01 11:00:00     11\n",
       "2017-01-01 12:00:00     12\n",
       "2017-01-02 09:00:00     33\n",
       "                      ... \n",
       "2017-01-30 12:00:00    708\n",
       "2017-01-31 09:00:00    729\n",
       "2017-01-31 10:00:00    730\n",
       "2017-01-31 11:00:00    731\n",
       "2017-01-31 12:00:00    732\n",
       "Length: 124, dtype: int32"
      ]
     },
     "execution_count": 162,
     "metadata": {},
     "output_type": "execute_result"
    }
   ],
   "source": [
    "# 指定した時間帯のみを抽出する場合\n",
    "# between_time()で指定した時間帯のみを抽出\n",
    "\n",
    "time_series.between_time(time(9,0), time(12,0))"
   ]
  },
  {
   "cell_type": "markdown",
   "metadata": {},
   "source": [
    "### リサンプリング"
   ]
  },
  {
   "cell_type": "code",
   "execution_count": 163,
   "metadata": {},
   "outputs": [
    {
     "data": {
      "text/plain": [
       "Date\n",
       "2015-01-31    3647.080000\n",
       "2015-02-28    3612.302500\n",
       "2015-03-31    3625.770455\n",
       "2015-04-30    3477.555455\n",
       "2015-05-31    3653.990476\n",
       "Freq: M, Name: TOEI ANIMATION, dtype: float64"
      ]
     },
     "execution_count": 163,
     "metadata": {},
     "output_type": "execute_result"
    }
   ],
   "source": [
    "# resampleメソッドを使用する事で時系列データの頻度を変換できる\n",
    "\n",
    "# 月次の株価の平均\n",
    "df['TOEI ANIMATION'].resample('M').mean().head()"
   ]
  },
  {
   "cell_type": "code",
   "execution_count": 164,
   "metadata": {},
   "outputs": [
    {
     "data": {
      "text/html": [
       "<div>\n",
       "<style scoped>\n",
       "    .dataframe tbody tr th:only-of-type {\n",
       "        vertical-align: middle;\n",
       "    }\n",
       "\n",
       "    .dataframe tbody tr th {\n",
       "        vertical-align: top;\n",
       "    }\n",
       "\n",
       "    .dataframe thead th {\n",
       "        text-align: right;\n",
       "    }\n",
       "</style>\n",
       "<table border=\"1\" class=\"dataframe\">\n",
       "  <thead>\n",
       "    <tr style=\"text-align: right;\">\n",
       "      <th></th>\n",
       "      <th>open</th>\n",
       "      <th>high</th>\n",
       "      <th>low</th>\n",
       "      <th>close</th>\n",
       "    </tr>\n",
       "    <tr>\n",
       "      <th>Date</th>\n",
       "      <th></th>\n",
       "      <th></th>\n",
       "      <th></th>\n",
       "      <th></th>\n",
       "    </tr>\n",
       "  </thead>\n",
       "  <tbody>\n",
       "    <tr>\n",
       "      <td>2015-01-31</td>\n",
       "      <td>3356.86</td>\n",
       "      <td>3965.41</td>\n",
       "      <td>3297.97</td>\n",
       "      <td>3965.41</td>\n",
       "    </tr>\n",
       "    <tr>\n",
       "      <td>2015-02-28</td>\n",
       "      <td>3484.46</td>\n",
       "      <td>3729.84</td>\n",
       "      <td>3459.92</td>\n",
       "      <td>3729.84</td>\n",
       "    </tr>\n",
       "    <tr>\n",
       "      <td>2015-03-31</td>\n",
       "      <td>3680.77</td>\n",
       "      <td>3685.67</td>\n",
       "      <td>3512.86</td>\n",
       "      <td>3512.86</td>\n",
       "    </tr>\n",
       "    <tr>\n",
       "      <td>2015-04-30</td>\n",
       "      <td>3512.86</td>\n",
       "      <td>3542.55</td>\n",
       "      <td>3404.01</td>\n",
       "      <td>3542.55</td>\n",
       "    </tr>\n",
       "    <tr>\n",
       "      <td>2015-05-31</td>\n",
       "      <td>3567.29</td>\n",
       "      <td>4235.23</td>\n",
       "      <td>3537.60</td>\n",
       "      <td>3681.08</td>\n",
       "    </tr>\n",
       "  </tbody>\n",
       "</table>\n",
       "</div>"
      ],
      "text/plain": [
       "               open     high      low    close\n",
       "Date                                          \n",
       "2015-01-31  3356.86  3965.41  3297.97  3965.41\n",
       "2015-02-28  3484.46  3729.84  3459.92  3729.84\n",
       "2015-03-31  3680.77  3685.67  3512.86  3512.86\n",
       "2015-04-30  3512.86  3542.55  3404.01  3542.55\n",
       "2015-05-31  3567.29  4235.23  3537.60  3681.08"
      ]
     },
     "execution_count": 164,
     "metadata": {},
     "output_type": "execute_result"
    }
   ],
   "source": [
    "# ohlcメソッドで4本値に変換出来る\n",
    "df['TOEI ANIMATION'].resample('M').ohlc().head()"
   ]
  },
  {
   "cell_type": "markdown",
   "metadata": {},
   "source": [
    "## 3-10 データ可視化\n",
    "### pandasを使用したデータ可視化"
   ]
  },
  {
   "cell_type": "code",
   "execution_count": 6,
   "metadata": {},
   "outputs": [
    {
     "data": {
      "image/png": "[encoded data removed]",
      "text/plain": [
       "<Figure size 432x288 with 1 Axes>"
      ]
     },
     "metadata": {
      "needs_background": "light"
     },
     "output_type": "display_data"
    }
   ],
   "source": [
    "import pandas as pd\n",
    "import matplotlib.pyplot as plt\n",
    "%matplotlib inline\n",
    "\n",
    "\n",
    "ax = pd.Series([1,2,3]).plot()\n",
    "ax.set_title('Line Cart')\n",
    "plt.style.use('ggplot')\n",
    "plt.show()"
   ]
  },
  {
   "cell_type": "markdown",
   "metadata": {},
   "source": [
    "### Seriesからプロットする"
   ]
  },
  {
   "cell_type": "code",
   "execution_count": 7,
   "metadata": {},
   "outputs": [
    {
     "data": {
      "image/png": "[encoded data removed]",
      "text/plain": [
       "<Figure size 432x288 with 1 Axes>"
      ]
     },
     "metadata": {},
     "output_type": "display_data"
    }
   ],
   "source": [
    "ser = pd.Series([1,2,3])\n",
    "ax = ser.plot()\n",
    "ax.set_title('Line Chart')\n",
    "plt.show()"
   ]
  },
  {
   "cell_type": "markdown",
   "metadata": {},
   "source": [
    "### DataFrameからプロットする\n",
    "- 列数に応じた要素が描画\n",
    "- インデックスがX軸、各列の値がY列"
   ]
  },
  {
   "cell_type": "code",
   "execution_count": 9,
   "metadata": {},
   "outputs": [
    {
     "data": {
      "image/png": "[encoded data removed]",
      "text/plain": [
       "<Figure size 432x288 with 1 Axes>"
      ]
     },
     "metadata": {},
     "output_type": "display_data"
    }
   ],
   "source": [
    "df = pd.DataFrame({'a' : [1,2,3], 'b' : [3,2,1]})\n",
    "ax = df.plot()\n",
    "ax.set_title('Line Chart')\n",
    "plt.show()"
   ]
  },
  {
   "cell_type": "markdown",
   "metadata": {},
   "source": [
    "### 折れ線グラフを作成する"
   ]
  },
  {
   "cell_type": "code",
   "execution_count": 10,
   "metadata": {},
   "outputs": [
    {
     "data": {
      "image/png": "[encoded data removed]",
      "text/plain": [
       "<Figure size 432x288 with 1 Axes>"
      ]
     },
     "metadata": {},
     "output_type": "display_data"
    }
   ],
   "source": [
    "anime_stock_returns_csv ='anime/anime_stock_returns.csv'\n",
    "anime_stock_returns_df = pd.read_csv(anime_stock_returns_csv, index_col=0)\n",
    "ax = anime_stock_returns_df.plot()\n",
    "ax.set_title('stock returns')\n",
    "plt.show()"
   ]
  },
  {
   "cell_type": "markdown",
   "metadata": {},
   "source": [
    "### Y軸の範囲が異なる場合\n",
    "- キーワード引数secondary_yに2軸目となる列名をリスト型で指定\n",
    "- Y軸のラベルはset_ylabel(), right_ax.set_ylabelで指定"
   ]
  },
  {
   "cell_type": "code",
   "execution_count": 11,
   "metadata": {},
   "outputs": [
    {
     "data": {
      "image/png": "[encoded data removed]",
      "text/plain": [
       "<Figure size 432x288 with 2 Axes>"
      ]
     },
     "metadata": {},
     "output_type": "display_data"
    }
   ],
   "source": [
    "anime_stock_price_csv = 'anime/anime_stock_price.csv'\n",
    "anime_stock_price_df = pd.read_csv(anime_stock_price_csv, index_col=0)\n",
    "\n",
    "ax = anime_stock_price_df.plot(secondary_y=['IG Port'])\n",
    "ax.set_title('secondary_y')\n",
    "ax.set_ylabel('TOEI ANIMETION')\n",
    "ax.right_ax.set_ylabel('IG Port')\n",
    "plt.show()"
   ]
  },
  {
   "cell_type": "markdown",
   "metadata": {},
   "source": [
    "### 複数の図に分割する場合\n",
    "- plotメソッドのキーワード引数subplotsにTrueを設定する"
   ]
  },
  {
   "cell_type": "code",
   "execution_count": 12,
   "metadata": {},
   "outputs": [
    {
     "data": {
      "image/png": "[encoded data removed]",
      "text/plain": [
       "<Figure size 432x288 with 2 Axes>"
      ]
     },
     "metadata": {},
     "output_type": "display_data"
    }
   ],
   "source": [
    "ax1, ax2 = anime_stock_price_df.plot(subplots=True)\n",
    "ax1.set_title('subplot1')\n",
    "ax2.set_title('subplot2')\n",
    "plt.show()"
   ]
  },
  {
   "cell_type": "markdown",
   "metadata": {},
   "source": [
    "### 散布図を作成する\n",
    "- plot.scatterメソッドを使用"
   ]
  },
  {
   "cell_type": "code",
   "execution_count": 14,
   "metadata": {},
   "outputs": [
    {
     "data": {
      "image/png": "[encoded data removed]",
      "text/plain": [
       "<Figure size 432x288 with 1 Axes>"
      ]
     },
     "metadata": {},
     "output_type": "display_data"
    }
   ],
   "source": [
    "anime_master_csv= 'anime/anime_master.csv'\n",
    "anime_master_df = pd.read_csv(anime_master_csv)\n",
    "ax = anime_master_df.plot.scatter(x='members', y='rating')\n",
    "ax.set_title('Scatter')\n",
    "plt.show()"
   ]
  },
  {
   "cell_type": "markdown",
   "metadata": {},
   "source": [
    "### 棒グラフを作成\n",
    "- plot.bar()を使用"
   ]
  },
  {
   "cell_type": "code",
   "execution_count": 15,
   "metadata": {},
   "outputs": [
    {
     "data": {
      "image/png": "[encoded data removed]",
      "text/plain": [
       "<Figure size 432x288 with 1 Axes>"
      ]
     },
     "metadata": {},
     "output_type": "display_data"
    }
   ],
   "source": [
    "anime_genre_top10_pivoted_csv = 'anime/anime_genre_top10_pivoted.csv'\n",
    "anime_genre_top10_pivoted_df = pd.read_csv(anime_genre_top10_pivoted_csv, index_col=0)\n",
    "ax = anime_genre_top10_pivoted_df.plot.bar()\n",
    "plt.show()"
   ]
  },
  {
   "cell_type": "code",
   "execution_count": 16,
   "metadata": {},
   "outputs": [
    {
     "data": {
      "text/html": [
       "<div>\n",
       "<style scoped>\n",
       "    .dataframe tbody tr th:only-of-type {\n",
       "        vertical-align: middle;\n",
       "    }\n",
       "\n",
       "    .dataframe tbody tr th {\n",
       "        vertical-align: top;\n",
       "    }\n",
       "\n",
       "    .dataframe thead th {\n",
       "        text-align: right;\n",
       "    }\n",
       "</style>\n",
       "<table border=\"1\" class=\"dataframe\">\n",
       "  <thead>\n",
       "    <tr style=\"text-align: right;\">\n",
       "      <th></th>\n",
       "      <th>Movie</th>\n",
       "      <th>Music</th>\n",
       "      <th>ONA</th>\n",
       "      <th>OVA</th>\n",
       "      <th>Special</th>\n",
       "      <th>TV</th>\n",
       "    </tr>\n",
       "    <tr>\n",
       "      <th>genre</th>\n",
       "      <th></th>\n",
       "      <th></th>\n",
       "      <th></th>\n",
       "      <th></th>\n",
       "      <th></th>\n",
       "      <th></th>\n",
       "    </tr>\n",
       "  </thead>\n",
       "  <tbody>\n",
       "    <tr>\n",
       "      <td>Comedy</td>\n",
       "      <td>7293127.0</td>\n",
       "      <td>20860.0</td>\n",
       "      <td>1477266.0</td>\n",
       "      <td>5614758.0</td>\n",
       "      <td>6659293.0</td>\n",
       "      <td>65420862.0</td>\n",
       "    </tr>\n",
       "    <tr>\n",
       "      <td>Action</td>\n",
       "      <td>10224960.0</td>\n",
       "      <td>77054.0</td>\n",
       "      <td>524907.0</td>\n",
       "      <td>5793680.0</td>\n",
       "      <td>3412689.0</td>\n",
       "      <td>63364032.0</td>\n",
       "    </tr>\n",
       "    <tr>\n",
       "      <td>Drama</td>\n",
       "      <td>9034099.0</td>\n",
       "      <td>100734.0</td>\n",
       "      <td>188427.0</td>\n",
       "      <td>3043374.0</td>\n",
       "      <td>1915578.0</td>\n",
       "      <td>41011557.0</td>\n",
       "    </tr>\n",
       "    <tr>\n",
       "      <td>Romance</td>\n",
       "      <td>5245386.0</td>\n",
       "      <td>42811.0</td>\n",
       "      <td>411331.0</td>\n",
       "      <td>3143167.0</td>\n",
       "      <td>2015820.0</td>\n",
       "      <td>40703388.0</td>\n",
       "    </tr>\n",
       "    <tr>\n",
       "      <td>Supernatural</td>\n",
       "      <td>5452779.0</td>\n",
       "      <td>9189.0</td>\n",
       "      <td>192989.0</td>\n",
       "      <td>2696715.0</td>\n",
       "      <td>2336723.0</td>\n",
       "      <td>38956520.0</td>\n",
       "    </tr>\n",
       "  </tbody>\n",
       "</table>\n",
       "</div>"
      ],
      "text/plain": [
       "                   Movie     Music        ONA        OVA    Special  \\\n",
       "genre                                                                 \n",
       "Comedy         7293127.0   20860.0  1477266.0  5614758.0  6659293.0   \n",
       "Action        10224960.0   77054.0   524907.0  5793680.0  3412689.0   \n",
       "Drama          9034099.0  100734.0   188427.0  3043374.0  1915578.0   \n",
       "Romance        5245386.0   42811.0   411331.0  3143167.0  2015820.0   \n",
       "Supernatural   5452779.0    9189.0   192989.0  2696715.0  2336723.0   \n",
       "\n",
       "                      TV  \n",
       "genre                     \n",
       "Comedy        65420862.0  \n",
       "Action        63364032.0  \n",
       "Drama         41011557.0  \n",
       "Romance       40703388.0  \n",
       "Supernatural  38956520.0  "
      ]
     },
     "execution_count": 16,
     "metadata": {},
     "output_type": "execute_result"
    }
   ],
   "source": [
    "anime_genre_top10_pivoted_df.head()"
   ]
  },
  {
   "cell_type": "markdown",
   "metadata": {},
   "source": [
    "### 対数軸に変更する場合\n",
    "- キーワード引数logyにTrueを設定する"
   ]
  },
  {
   "cell_type": "code",
   "execution_count": 17,
   "metadata": {},
   "outputs": [
    {
     "data": {
      "image/png": "[encoded data removed]",
      "text/plain": [
       "<Figure size 432x288 with 1 Axes>"
      ]
     },
     "metadata": {},
     "output_type": "display_data"
    }
   ],
   "source": [
    "ax = anime_genre_top10_pivoted_df.plot.bar(logy=True)\n",
    "ax.legend(bbox_to_anchor=(1,1))\n",
    "plt.show()"
   ]
  },
  {
   "cell_type": "markdown",
   "metadata": {},
   "source": [
    "### 積み上げ棒グラフにする場合\n",
    "- キーワード引数stackedにTrueを設定"
   ]
  },
  {
   "cell_type": "code",
   "execution_count": 18,
   "metadata": {},
   "outputs": [
    {
     "data": {
      "image/png": "[encoded data removed]",
      "text/plain": [
       "<Figure size 432x288 with 1 Axes>"
      ]
     },
     "metadata": {},
     "output_type": "display_data"
    }
   ],
   "source": [
    "ax = anime_genre_top10_pivoted_df.plot.bar(stacked=True)\n",
    "ax.set_title('stacked')\n",
    "plt.show()"
   ]
  },
  {
   "cell_type": "markdown",
   "metadata": {},
   "source": [
    "### ヒストグラムを作成する\n",
    "- histメソッドを使用する、キーワード引数binsに整数値を設定することでビンの数を変更できる"
   ]
  },
  {
   "cell_type": "code",
   "execution_count": 19,
   "metadata": {},
   "outputs": [
    {
     "data": {
      "image/png": "[encoded data removed]",
      "text/plain": [
       "<Figure size 432x288 with 1 Axes>"
      ]
     },
     "metadata": {},
     "output_type": "display_data"
    }
   ],
   "source": [
    "ax = anime_master_df['rating'].hist(bins=100)\n",
    "ax.set_title('Histogram')\n",
    "plt.show()"
   ]
  },
  {
   "cell_type": "markdown",
   "metadata": {},
   "source": [
    "### 箱ひげ図を作成する\n",
    "- plot.boxを使用する"
   ]
  },
  {
   "cell_type": "code",
   "execution_count": 20,
   "metadata": {},
   "outputs": [
    {
     "data": {
      "image/png": "[encoded data removed]",
      "text/plain": [
       "<Figure size 432x288 with 1 Axes>"
      ]
     },
     "metadata": {},
     "output_type": "display_data"
    }
   ],
   "source": [
    "ax = anime_genre_top10_pivoted_df.plot.box()\n",
    "ax.set_title('Box Plot')\n",
    "plt.show()"
   ]
  },
  {
   "cell_type": "markdown",
   "metadata": {},
   "source": [
    "### 円グラフを作成する\n",
    "- plot.pie()を使用"
   ]
  },
  {
   "cell_type": "code",
   "execution_count": 23,
   "metadata": {},
   "outputs": [
    {
     "data": {
      "image/png": "[encoded data removed]",
      "text/plain": [
       "<Figure size 360x360 with 1 Axes>"
      ]
     },
     "metadata": {},
     "output_type": "display_data"
    }
   ],
   "source": [
    "anime_genre_top10_csv = 'anime/anime_genre_top10.csv'\n",
    "anime_genre_top10_df = pd.read_csv(anime_genre_top10_csv)\n",
    "\n",
    "ax = anime_genre_top10_df.groupby('genre').sum()['members'].plot.pie(figsize=(5,5))\n",
    "ax.set_title('Pie Chart')\n",
    "# Y軸ラベルを削除'\n",
    "ax.set_ylabel('')\n",
    "plt.show()"
   ]
  },
  {
   "cell_type": "code",
   "execution_count": null,
   "metadata": {},
   "outputs": [],
   "source": []
  }
 ],
 "metadata": {
  "kernelspec": {
   "display_name": "Python 3",
   "language": "python",
   "name": "python3"
  },
  "language_info": {
   "codemirror_mode": {
    "name": "ipython",
    "version": 3
   },
   "file_extension": ".py",
   "mimetype": "text/x-python",
   "name": "python",
   "nbconvert_exporter": "python",
   "pygments_lexer": "ipython3",
   "version": "3.7.4"
  }
 },
 "nbformat": 4,
 "nbformat_minor": 4
}
